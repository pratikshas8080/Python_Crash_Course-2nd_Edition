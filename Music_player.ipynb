{
  "nbformat": 4,
  "nbformat_minor": 0,
  "metadata": {
    "colab": {
      "name": "Music_player.ipynb",
      "provenance": [],
      "authorship_tag": "ABX9TyMqfveCdLJ4dskyGUeYL5TC",
      "include_colab_link": true
    },
    "kernelspec": {
      "name": "python3",
      "display_name": "Python 3"
    }
  },
  "cells": [
    {
      "cell_type": "markdown",
      "metadata": {
        "id": "view-in-github",
        "colab_type": "text"
      },
      "source": [
        "<a href=\"https://colab.research.google.com/github/pratikshas8080/Python_Crash_Course-2nd_Edition/blob/main/Music_player.ipynb\" target=\"_parent\"><img src=\"https://colab.research.google.com/assets/colab-badge.svg\" alt=\"Open In Colab\"/></a>"
      ]
    },
    {
      "cell_type": "code",
      "metadata": {
        "id": "zEU5xqRG4YP7"
      },
      "source": [
        "import musicplayer, sys, os, fnmatch, random, pprint, Tkinter\n",
        "\n",
        "class Song:\n",
        "        def __init__(self, fn):\n",
        "                self.url = fn\n",
        "                self.f = open(fn)\n",
        "        # `__eq__` is used for the peek stream management\n",
        "        def __eq__(self, other):\n",
        "                return self.url == other.url\n",
        "        # this is used by the player as the data interface\n",
        "        def readPacket(self, bufSize):\n",
        "                return self.f.read(bufSize)\n",
        "        def seekRaw(self, offset, whence):\n",
        "                r = self.f.seek(offset, whence)\n",
        "                return self.f.tell()\n",
        "\n",
        "files = []\n",
        "def getFiles(path):\n",
        "        for f in sorted(os.listdir(path), key=lambda k: random.random()):\n",
        "                f = os.path.join(path, f)\n",
        "                if os.path.isdir(f): getFiles(f) # recurse\n",
        "                if len(files) > 1000: break # break if we have enough\n",
        "                if fnmatch.fnmatch(f, '*.mp3'): files.append(f)\n",
        "getFiles(os.path.expanduser(\"~/Music\"))\n",
        "random.shuffle(files) # shuffle some more\n",
        "\n",
        "i = 0\n",
        "\n",
        "def songs():\n",
        "        global i, files\n",
        "        while True:\n",
        "                yield Song(files[i])\n",
        "                i += 1\n",
        "                if i >= len(files): i = 0\n",
        "\n",
        "def peekSongs(n):\n",
        "        nexti = i + 1\n",
        "        if nexti >= len(files): nexti = 0\n",
        "        return map(Song, (files[nexti:] + files[:nexti])[:n])\n",
        "\n",
        "# Create our Music Player.\n",
        "player = musicplayer.createPlayer()\n",
        "player.outSamplerate = 96000 # support high quality :)\n",
        "player.queue = songs()\n",
        "player.peekQueue = peekSongs\n",
        "\n",
        "# Setup a simple GUI.\n",
        "window = Tkinter.Tk()\n",
        "window.title(\"Music Player\")\n",
        "songLabel = Tkinter.StringVar()\n",
        "\n",
        "def onSongChange(**kwargs): songLabel.set(pprint.pformat(player.curSongMetadata))\n",
        "def cmdPlayPause(*args): player.playing = not player.playing\n",
        "def cmdNext(*args): player.nextSong()\n",
        "\n",
        "Tkinter.Label(window, textvariable=songLabel).pack()\n",
        "Tkinter.Button(window, text=\"Play/Pause\", command=cmdPlayPause).pack()\n",
        "Tkinter.Button(window, text=\"Next\", command=cmdNext).pack()\n",
        "\n",
        "player.onSongChange = onSongChange\n",
        "player.playing = True # start playing\n",
        "window.mainloop()"
      ],
      "execution_count": null,
      "outputs": []
    }
  ]
}
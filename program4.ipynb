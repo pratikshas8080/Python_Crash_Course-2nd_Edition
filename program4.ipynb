{
  "nbformat": 4,
  "nbformat_minor": 0,
  "metadata": {
    "colab": {
      "name": "program4.ipynb",
      "provenance": [],
      "authorship_tag": "ABX9TyO9KK3AGfU5zuLrWA7Ycxoc",
      "include_colab_link": true
    },
    "kernelspec": {
      "name": "python3",
      "display_name": "Python 3"
    }
  },
  "cells": [
    {
      "cell_type": "markdown",
      "metadata": {
        "id": "view-in-github",
        "colab_type": "text"
      },
      "source": [
        "<a href=\"https://colab.research.google.com/github/pratikshas8080/Python_Crash_Course-2nd_Edition/blob/main/program4.ipynb\" target=\"_parent\"><img src=\"https://colab.research.google.com/assets/colab-badge.svg\" alt=\"Open In Colab\"/></a>"
      ]
    },
    {
      "cell_type": "code",
      "metadata": {
        "id": "7AGb-g-Nj-vP",
        "colab": {
          "base_uri": "https://localhost:8080/"
        },
        "outputId": "e45ddba4-0911-4be7-924e-649e0b0ea5db"
      },
      "source": [
        "# Different types of sets in Python\n",
        "# set of integers\n",
        "my_set = {1, 2, 3}\n",
        "print(my_set)\n",
        "\n",
        "# set of mixed datatypes\n",
        "my_set = {1.0, \"Hello\", (1, 2, 3)}\n",
        "print(my_set)"
      ],
      "execution_count": 1,
      "outputs": [
        {
          "output_type": "stream",
          "text": [
            "{1, 2, 3}\n",
            "{1.0, 'Hello', (1, 2, 3)}\n"
          ],
          "name": "stdout"
        }
      ]
    }
  ]
}
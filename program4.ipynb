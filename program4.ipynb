{
  "nbformat": 4,
  "nbformat_minor": 0,
  "metadata": {
    "colab": {
      "name": "program4.ipynb",
      "provenance": [],
      "authorship_tag": "ABX9TyOJsq+3hJ8WTW19Ue35YW8u",
      "include_colab_link": true
    },
    "kernelspec": {
      "name": "python3",
      "display_name": "Python 3"
    }
  },
  "cells": [
    {
      "cell_type": "markdown",
      "metadata": {
        "id": "view-in-github",
        "colab_type": "text"
      },
      "source": [
        "<a href=\"https://colab.research.google.com/github/pratikshas8080/Python_Crash_Course-2nd_Edition/blob/main/program4.ipynb\" target=\"_parent\"><img src=\"https://colab.research.google.com/assets/colab-badge.svg\" alt=\"Open In Colab\"/></a>"
      ]
    },
    {
      "cell_type": "code",
      "metadata": {
        "id": "7AGb-g-Nj-vP",
        "colab": {
          "base_uri": "https://localhost:8080/"
        },
        "outputId": "e45ddba4-0911-4be7-924e-649e0b0ea5db"
      },
      "source": [
        "# Different types of sets in Python\n",
        "# set of integers\n",
        "my_set = {1, 2, 3}\n",
        "print(my_set)\n",
        "\n",
        "# set of mixed datatypes\n",
        "my_set = {1.0, \"Hello\", (1, 2, 3)}\n",
        "print(my_set)"
      ],
      "execution_count": null,
      "outputs": [
        {
          "output_type": "stream",
          "text": [
            "{1, 2, 3}\n",
            "{1.0, 'Hello', (1, 2, 3)}\n"
          ],
          "name": "stdout"
        }
      ]
    },
    {
      "cell_type": "code",
      "metadata": {
        "colab": {
          "base_uri": "https://localhost:8080/"
        },
        "id": "T2L6wjXqkHod",
        "outputId": "a76cde7c-b175-4a4b-a73e-dee74be52f8e"
      },
      "source": [
        "# set cannot have duplicates\n",
        "# Output: {1, 2, 3, 4}\n",
        "my_set = {1, 2, 3, 4, 3, 2}\n",
        "print(my_set)\n",
        "\n",
        "# we can make set from a list\n",
        "# Output: {1, 2, 3}\n",
        "my_set = set([1, 2, 3, 2])\n",
        "print(my_set)\n"
      ],
      "execution_count": null,
      "outputs": [
        {
          "output_type": "stream",
          "text": [
            "{1, 2, 3, 4}\n",
            "{1, 2, 3}\n"
          ],
          "name": "stdout"
        }
      ]
    }
  ]
}
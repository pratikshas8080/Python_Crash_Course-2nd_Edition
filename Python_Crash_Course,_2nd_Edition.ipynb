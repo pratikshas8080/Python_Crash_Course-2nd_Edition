{
  "nbformat": 4,
  "nbformat_minor": 0,
  "metadata": {
    "colab": {
      "name": " Python Crash Course, 2nd Edition.ipynb",
      "provenance": [],
      "collapsed_sections": [],
      "authorship_tag": "ABX9TyOFfrct1sJLAf6Z6MctZSgX",
      "include_colab_link": true
    },
    "kernelspec": {
      "display_name": "Python 3",
      "name": "python3"
    }
  },
  "cells": [
    {
      "cell_type": "markdown",
      "metadata": {
        "id": "view-in-github",
        "colab_type": "text"
      },
      "source": [
        "<a href=\"https://colab.research.google.com/github/pratikshas8080/Python_Crash_Course-2nd_Edition/blob/main/Python_Crash_Course%2C_2nd_Edition.ipynb\" target=\"_parent\"><img src=\"https://colab.research.google.com/assets/colab-badge.svg\" alt=\"Open In Colab\"/></a>"
      ]
    },
    {
      "cell_type": "code",
      "metadata": {
        "id": "vWSkfDgk2R-8",
        "colab": {
          "base_uri": "https://localhost:8080/",
          "height": 34
        },
        "outputId": "78079806-0eea-4c57-93cc-e66cc02b4273"
      },
      "source": [
        "print(\"Hello Python interpreter!\")"
      ],
      "execution_count": null,
      "outputs": [
        {
          "output_type": "stream",
          "text": [
            "Hello Python interpreter!\n"
          ],
          "name": "stdout"
        }
      ]
    },
    {
      "cell_type": "code",
      "metadata": {
        "id": "Ci0QypKF3RXn",
        "colab": {
          "base_uri": "https://localhost:8080/",
          "height": 34
        },
        "outputId": "009c379a-bb7d-44ac-97ba-638fca46a761"
      },
      "source": [
        "message = \"Hello Python world!\"\n",
        "print(message)"
      ],
      "execution_count": null,
      "outputs": [
        {
          "output_type": "stream",
          "text": [
            "Hello Python world!\n"
          ],
          "name": "stdout"
        }
      ]
    },
    {
      "cell_type": "markdown",
      "metadata": {
        "id": "TG4zgjla93Oh"
      },
      "source": [
        "A string is a series of characters. Anything inside quotes is considered a string in Python, and you can use single or double quotes around your strings"
      ]
    },
    {
      "cell_type": "code",
      "metadata": {
        "id": "HtsC_8hf9qjc",
        "colab": {
          "base_uri": "https://localhost:8080/",
          "height": 34
        },
        "outputId": "20484edc-e1dd-4506-bf4c-cf0fc0edcd8c"
      },
      "source": [
        "name = \"ada lovelace\"\n",
        "print(name.title())"
      ],
      "execution_count": null,
      "outputs": [
        {
          "output_type": "stream",
          "text": [
            "Ada Lovelace\n"
          ],
          "name": "stdout"
        }
      ]
    },
    {
      "cell_type": "code",
      "metadata": {
        "id": "qEpXmG4J-A5C",
        "colab": {
          "base_uri": "https://localhost:8080/",
          "height": 34
        },
        "outputId": "d2d6f07c-0a0c-436b-dfdd-f8077c3cdb3a"
      },
      "source": [
        "first_name = \"ada\"\n",
        "last_name = \"lovelace\"\n",
        "full_name = f\"{first_name} {last_name}\"\n",
        "print(full_name)"
      ],
      "execution_count": null,
      "outputs": [
        {
          "output_type": "stream",
          "text": [
            "ada lovelace\n"
          ],
          "name": "stdout"
        }
      ]
    },
    {
      "cell_type": "code",
      "metadata": {
        "id": "L3KXYvzf_r9v",
        "colab": {
          "base_uri": "https://localhost:8080/",
          "height": 34
        },
        "outputId": "92f72180-d122-463a-ede8-5a19c26f2c5d"
      },
      "source": [
        "print(\"Python\")"
      ],
      "execution_count": null,
      "outputs": [
        {
          "output_type": "stream",
          "text": [
            "Python\n"
          ],
          "name": "stdout"
        }
      ]
    },
    {
      "cell_type": "code",
      "metadata": {
        "id": "dXDMoTS5_0-7",
        "colab": {
          "base_uri": "https://localhost:8080/",
          "height": 34
        },
        "outputId": "b9440866-071e-4947-9d9c-94ad5b9768a7"
      },
      "source": [
        " print(\"\\tPython\")"
      ],
      "execution_count": null,
      "outputs": [
        {
          "output_type": "stream",
          "text": [
            "\tPython\n"
          ],
          "name": "stdout"
        }
      ]
    },
    {
      "cell_type": "code",
      "metadata": {
        "id": "vkvW64wxA_-f",
        "colab": {
          "base_uri": "https://localhost:8080/",
          "height": 86
        },
        "outputId": "cfd6379b-6a28-444c-cd2c-8a910556edfb"
      },
      "source": [
        "print(\"Languages:\\nPython\\nC\\nJavaScript\")"
      ],
      "execution_count": null,
      "outputs": [
        {
          "output_type": "stream",
          "text": [
            "Languages:\n",
            "Python\n",
            "C\n",
            "JavaScript\n"
          ],
          "name": "stdout"
        }
      ]
    },
    {
      "cell_type": "code",
      "metadata": {
        "id": "4DPgjtU9BG75"
      },
      "source": [
        "favorite_language = 'python '"
      ],
      "execution_count": null,
      "outputs": []
    },
    {
      "cell_type": "code",
      "metadata": {
        "id": "8CV7DkUzBLpK",
        "colab": {
          "base_uri": "https://localhost:8080/",
          "height": 35
        },
        "outputId": "d15b4180-4174-464e-8169-f186530f029b"
      },
      "source": [
        "favorite_language"
      ],
      "execution_count": null,
      "outputs": [
        {
          "output_type": "execute_result",
          "data": {
            "application/vnd.google.colaboratory.intrinsic+json": {
              "type": "string"
            },
            "text/plain": [
              "'python '"
            ]
          },
          "metadata": {
            "tags": []
          },
          "execution_count": 13
        }
      ]
    },
    {
      "cell_type": "code",
      "metadata": {
        "id": "8hebvPmABQO8",
        "colab": {
          "base_uri": "https://localhost:8080/",
          "height": 35
        },
        "outputId": "e20ea960-4413-4589-a9c1-b9b2a54750e9"
      },
      "source": [
        "favorite_language.rstrip()"
      ],
      "execution_count": null,
      "outputs": [
        {
          "output_type": "execute_result",
          "data": {
            "application/vnd.google.colaboratory.intrinsic+json": {
              "type": "string"
            },
            "text/plain": [
              "'python'"
            ]
          },
          "metadata": {
            "tags": []
          },
          "execution_count": 14
        }
      ]
    },
    {
      "cell_type": "code",
      "metadata": {
        "id": "2N5USxBIBTx9",
        "colab": {
          "base_uri": "https://localhost:8080/",
          "height": 35
        },
        "outputId": "26ea7638-dce9-4e86-f361-4f82a4b8317d"
      },
      "source": [
        "favorite_language"
      ],
      "execution_count": null,
      "outputs": [
        {
          "output_type": "execute_result",
          "data": {
            "application/vnd.google.colaboratory.intrinsic+json": {
              "type": "string"
            },
            "text/plain": [
              "'python '"
            ]
          },
          "metadata": {
            "tags": []
          },
          "execution_count": 15
        }
      ]
    },
    {
      "cell_type": "code",
      "metadata": {
        "id": "2D9J3-uMBXVZ",
        "colab": {
          "base_uri": "https://localhost:8080/",
          "height": 35
        },
        "outputId": "dc87aca9-de99-4e49-e7dd-ec17e8eaac4c"
      },
      "source": [
        "favorite_language=\"python\"\n",
        "favorite_language=favorite_language.rstrip()\n",
        "favorite_language"
      ],
      "execution_count": null,
      "outputs": [
        {
          "output_type": "execute_result",
          "data": {
            "application/vnd.google.colaboratory.intrinsic+json": {
              "type": "string"
            },
            "text/plain": [
              "'python'"
            ]
          },
          "metadata": {
            "tags": []
          },
          "execution_count": 16
        }
      ]
    },
    {
      "cell_type": "code",
      "metadata": {
        "id": "hvhZgviuCrIM",
        "colab": {
          "base_uri": "https://localhost:8080/",
          "height": 34
        },
        "outputId": "5005c766-4776-4a0c-ed65-bc487a210e4b"
      },
      "source": [
        "favorite_language = ' python '\n",
        "favorite_language.rstrip()\n",
        "favorite_language.lstrip()\n",
        "favorite_language.strip()\n",
        "print(favorite_language)"
      ],
      "execution_count": null,
      "outputs": [
        {
          "output_type": "stream",
          "text": [
            " python \n"
          ],
          "name": "stdout"
        }
      ]
    },
    {
      "cell_type": "code",
      "metadata": {
        "id": "hxgelBsjDHg1",
        "colab": {
          "base_uri": "https://localhost:8080/",
          "height": 34
        },
        "outputId": "64083cf4-6334-4867-85cb-e4e98d26d423"
      },
      "source": [
        "message = \"One of Python's strengths is its diverse community.\"\n",
        "print(message)"
      ],
      "execution_count": null,
      "outputs": [
        {
          "output_type": "stream",
          "text": [
            "One of Python's strengths is its diverse community.\n"
          ],
          "name": "stdout"
        }
      ]
    },
    {
      "cell_type": "code",
      "metadata": {
        "id": "SP8TUhjU6gwy",
        "colab": {
          "base_uri": "https://localhost:8080/",
          "height": 52
        },
        "outputId": "8fefe228-1ee4-4a99-8720-6f08642ea47b"
      },
      "source": [
        "name = \"Ada Lovelace\"\n",
        "print(name.upper())\n",
        "print(name.lower())"
      ],
      "execution_count": null,
      "outputs": [
        {
          "output_type": "stream",
          "text": [
            "ADA LOVELACE\n",
            "ada lovelace\n"
          ],
          "name": "stdout"
        }
      ]
    },
    {
      "cell_type": "code",
      "metadata": {
        "id": "P0AOOZdL6tGT",
        "colab": {
          "base_uri": "https://localhost:8080/",
          "height": 34
        },
        "outputId": "1b7cb684-75d7-49c9-d157-ac46f2ed82df"
      },
      "source": [
        "2+3\n",
        "2-3\n",
        "2*3\n",
        "2/3"
      ],
      "execution_count": null,
      "outputs": [
        {
          "output_type": "execute_result",
          "data": {
            "text/plain": [
              "0.6666666666666666"
            ]
          },
          "metadata": {
            "tags": []
          },
          "execution_count": 4
        }
      ]
    },
    {
      "cell_type": "code",
      "metadata": {
        "id": "TYPd9xXA7cU7",
        "colab": {
          "base_uri": "https://localhost:8080/",
          "height": 34
        },
        "outputId": "73262ba0-14c5-4431-af17-a1b91203aa41"
      },
      "source": [
        "2**3"
      ],
      "execution_count": null,
      "outputs": [
        {
          "output_type": "execute_result",
          "data": {
            "text/plain": [
              "8"
            ]
          },
          "metadata": {
            "tags": []
          },
          "execution_count": 6
        }
      ]
    },
    {
      "cell_type": "code",
      "metadata": {
        "id": "GaGco3Rs7lWS",
        "colab": {
          "base_uri": "https://localhost:8080/",
          "height": 34
        },
        "outputId": "e9fce8bd-9a00-4ede-e3cc-98213384c567"
      },
      "source": [
        "0.1+0.1"
      ],
      "execution_count": null,
      "outputs": [
        {
          "output_type": "execute_result",
          "data": {
            "text/plain": [
              "0.2"
            ]
          },
          "metadata": {
            "tags": []
          },
          "execution_count": 7
        }
      ]
    },
    {
      "cell_type": "code",
      "metadata": {
        "id": "H3iJFcZK7rP_",
        "colab": {
          "base_uri": "https://localhost:8080/",
          "height": 34
        },
        "outputId": "32a47a05-8af4-4742-d3df-7b48ec259a0f"
      },
      "source": [
        "universe_age = 14_000_000_000\n",
        "print(universe_age)"
      ],
      "execution_count": null,
      "outputs": [
        {
          "output_type": "stream",
          "text": [
            "14000000000\n"
          ],
          "name": "stdout"
        }
      ]
    },
    {
      "cell_type": "code",
      "metadata": {
        "id": "CnGgpp0D78Do"
      },
      "source": [
        "x, y, z = 0, 0, 0"
      ],
      "execution_count": null,
      "outputs": []
    },
    {
      "cell_type": "code",
      "metadata": {
        "id": "guJfn3y87-kX",
        "colab": {
          "base_uri": "https://localhost:8080/",
          "height": 34
        },
        "outputId": "59b4ed3a-9e44-4651-8680-1a99a6842eb3"
      },
      "source": [
        "bicycles = ['trek', 'cannondale', 'redline', 'specialized']\n",
        "print(bicycles)"
      ],
      "execution_count": null,
      "outputs": [
        {
          "output_type": "stream",
          "text": [
            "['trek', 'cannondale', 'redline', 'specialized']\n"
          ],
          "name": "stdout"
        }
      ]
    },
    {
      "cell_type": "code",
      "metadata": {
        "id": "0RleFCWF8K2m",
        "colab": {
          "base_uri": "https://localhost:8080/",
          "height": 52
        },
        "outputId": "003138a9-aa52-46ab-da72-73d7c65c2dc2"
      },
      "source": [
        "bicycles = ['trek', 'cannondale', 'redline', 'specialized']\n",
        "print(bicycles[1])\n",
        "print(bicycles[3])"
      ],
      "execution_count": null,
      "outputs": [
        {
          "output_type": "stream",
          "text": [
            "cannondale\n",
            "specialized\n"
          ],
          "name": "stdout"
        }
      ]
    },
    {
      "cell_type": "code",
      "metadata": {
        "id": "o-hnLO-v8YFy",
        "colab": {
          "base_uri": "https://localhost:8080/",
          "height": 34
        },
        "outputId": "b7a5c9bf-d780-4db8-dc06-107e2d0eef20"
      },
      "source": [
        "bicycles = ['trek', 'cannondale', 'redline', 'specialized']\n",
        "print(bicycles[-1])"
      ],
      "execution_count": null,
      "outputs": [
        {
          "output_type": "stream",
          "text": [
            "specialized\n"
          ],
          "name": "stdout"
        }
      ]
    },
    {
      "cell_type": "code",
      "metadata": {
        "id": "smQEBHvb8foa",
        "colab": {
          "base_uri": "https://localhost:8080/",
          "height": 34
        },
        "outputId": "6bdac067-59e9-4e93-98ff-934b85e1e8bf"
      },
      "source": [
        "motorcycles = []\n",
        "motorcycles.append('honda')\n",
        "motorcycles.append('yamaha')\n",
        "motorcycles.append('suzuki')\n",
        "print(motorcycles)"
      ],
      "execution_count": null,
      "outputs": [
        {
          "output_type": "stream",
          "text": [
            "['honda', 'yamaha', 'suzuki']\n"
          ],
          "name": "stdout"
        }
      ]
    },
    {
      "cell_type": "code",
      "metadata": {
        "id": "c-Pru2W10_4g",
        "colab": {
          "base_uri": "https://localhost:8080/",
          "height": 69
        },
        "outputId": "d6be7b9c-1561-4f6c-a351-6b6a9f2447fa"
      },
      "source": [
        "magicians = ['alice', 'david', 'carolina']\n",
        "for magician in magicians:\n",
        "       print(magician)"
      ],
      "execution_count": null,
      "outputs": [
        {
          "output_type": "stream",
          "text": [
            "alice\n",
            "david\n",
            "carolina\n"
          ],
          "name": "stdout"
        }
      ]
    },
    {
      "cell_type": "code",
      "metadata": {
        "id": "33v2GMUs1P6I",
        "colab": {
          "base_uri": "https://localhost:8080/",
          "height": 173
        },
        "outputId": "8fb46516-99c1-4f91-f613-c25c2dee80aa"
      },
      "source": [
        "magicians = ['alice', 'david', 'carolina']\n",
        "for magician in magicians:\n",
        "  print(f\"{magician.title()}, that was a great trick!\")\n",
        "  print(f\"I can't wait to see your next trick, {magician.title()}.\\n\")"
      ],
      "execution_count": null,
      "outputs": [
        {
          "output_type": "stream",
          "text": [
            "Alice, that was a great trick!\n",
            "I can't wait to see your next trick, Alice.\n",
            "\n",
            "David, that was a great trick!\n",
            "I can't wait to see your next trick, David.\n",
            "\n",
            "Carolina, that was a great trick!\n",
            "I can't wait to see your next trick, Carolina.\n",
            "\n"
          ],
          "name": "stdout"
        }
      ]
    },
    {
      "cell_type": "code",
      "metadata": {
        "id": "DKiP1BF41uba",
        "colab": {
          "background_save": true,
          "base_uri": "https://localhost:8080/",
          "height": 131
        },
        "outputId": "b50b133e-1654-49b2-ec36-35ed52693e41"
      },
      "source": [
        "for value in range(1, 5):    \n",
        "  print(value)"
      ],
      "execution_count": null,
      "outputs": [
        {
          "output_type": "stream",
          "text": [
            "1\n",
            "2\n",
            "3\n",
            "4\n"
          ],
          "name": "stdout"
        }
      ]
    },
    {
      "cell_type": "code",
      "metadata": {
        "id": "wW527HN_eh7x",
        "colab": {
          "base_uri": "https://localhost:8080/",
          "height": 34
        },
        "outputId": "334e99b4-8a71-47fa-9948-9f531179e6e3"
      },
      "source": [
        "numbers = list(range(1, 6))\n",
        "print(numbers)"
      ],
      "execution_count": null,
      "outputs": [
        {
          "output_type": "stream",
          "text": [
            "[1, 2, 3, 4, 5]\n"
          ],
          "name": "stdout"
        }
      ]
    },
    {
      "cell_type": "code",
      "metadata": {
        "id": "_oy2twpSemRK",
        "colab": {
          "base_uri": "https://localhost:8080/",
          "height": 34
        },
        "outputId": "1bd2444c-4282-4254-d345-4bc5388c84ea"
      },
      "source": [
        "even_numbers = list(range(2, 11, 2))\n",
        "print(even_numbers)"
      ],
      "execution_count": null,
      "outputs": [
        {
          "output_type": "stream",
          "text": [
            "[2, 4, 6, 8, 10]\n"
          ],
          "name": "stdout"
        }
      ]
    },
    {
      "cell_type": "code",
      "metadata": {
        "id": "MGn7klohfEtp",
        "colab": {
          "base_uri": "https://localhost:8080/",
          "height": 34
        },
        "outputId": "8d9e9063-dfa6-4d22-a3ce-b20c844e156d"
      },
      "source": [
        "squares = []\n",
        "for value in range(1, 11):\n",
        "     square = value ** 2\n",
        "     squares.append(square)\n",
        "print(squares)"
      ],
      "execution_count": null,
      "outputs": [
        {
          "output_type": "stream",
          "text": [
            "[1, 4, 9, 16, 25, 36, 49, 64, 81, 100]\n"
          ],
          "name": "stdout"
        }
      ]
    },
    {
      "cell_type": "code",
      "metadata": {
        "id": "eVONa2DQfM7B",
        "colab": {
          "base_uri": "https://localhost:8080/",
          "height": 69
        },
        "outputId": "b0ec1138-be78-48d4-fa01-e10524b370b5"
      },
      "source": [
        "digits = [1, 2, 3, 4, 5, 6, 7, 8, 9, 0]\n",
        "print(min(digits))\n",
        "print(max(digits))\n",
        "print(sum(digits))"
      ],
      "execution_count": null,
      "outputs": [
        {
          "output_type": "stream",
          "text": [
            "0\n",
            "9\n",
            "45\n"
          ],
          "name": "stdout"
        }
      ]
    },
    {
      "cell_type": "code",
      "metadata": {
        "id": "uQ3Dndl-fmXV",
        "colab": {
          "base_uri": "https://localhost:8080/",
          "height": 34
        },
        "outputId": "ab55a427-10de-4aac-d5dc-349b3ccd81a4"
      },
      "source": [
        "squares = [value**2 for value in range(1, 11)]\n",
        "print(squares)"
      ],
      "execution_count": null,
      "outputs": [
        {
          "output_type": "stream",
          "text": [
            "[1, 4, 9, 16, 25, 36, 49, 64, 81, 100]\n"
          ],
          "name": "stdout"
        }
      ]
    },
    {
      "cell_type": "code",
      "metadata": {
        "id": "Rwv24m4Kft8y",
        "colab": {
          "base_uri": "https://localhost:8080/",
          "height": 34
        },
        "outputId": "619bd87c-8a21-49e1-e979-74363ddb7aa7"
      },
      "source": [
        "players = ['charles', 'martina', 'michael', 'florence', 'eli']\n",
        "print(players[0:3])"
      ],
      "execution_count": null,
      "outputs": [
        {
          "output_type": "stream",
          "text": [
            "['charles', 'martina', 'michael']\n"
          ],
          "name": "stdout"
        }
      ]
    },
    {
      "cell_type": "code",
      "metadata": {
        "id": "n3Zpgg4Xf4lr",
        "colab": {
          "base_uri": "https://localhost:8080/",
          "height": 34
        },
        "outputId": "00fdd627-ab72-450c-fdc5-aba8b88a7088"
      },
      "source": [
        "players = ['charles', 'martina', 'michael', 'florence', 'eli']\n",
        "print(players[1:4])"
      ],
      "execution_count": null,
      "outputs": [
        {
          "output_type": "stream",
          "text": [
            "['martina', 'michael', 'florence']\n"
          ],
          "name": "stdout"
        }
      ]
    },
    {
      "cell_type": "code",
      "metadata": {
        "id": "8P_yozbOf_73",
        "colab": {
          "base_uri": "https://localhost:8080/",
          "height": 34
        },
        "outputId": "e1728bb2-4758-4be6-bd18-43c49719dc13"
      },
      "source": [
        "players = ['charles', 'martina', 'michael', 'florence', 'eli']\n",
        "print(players[2:])"
      ],
      "execution_count": null,
      "outputs": [
        {
          "output_type": "stream",
          "text": [
            "['michael', 'florence', 'eli']\n"
          ],
          "name": "stdout"
        }
      ]
    },
    {
      "cell_type": "code",
      "metadata": {
        "id": "_rfBvNXMgJp2",
        "colab": {
          "base_uri": "https://localhost:8080/",
          "height": 34
        },
        "outputId": "952322ac-8ba5-47fb-c71b-c21ec24c69d8"
      },
      "source": [
        "players = ['charles', 'martina', 'michael', 'florence', 'eli']\n",
        "print(players[-3:])"
      ],
      "execution_count": null,
      "outputs": [
        {
          "output_type": "stream",
          "text": [
            "['michael', 'florence', 'eli']\n"
          ],
          "name": "stdout"
        }
      ]
    },
    {
      "cell_type": "code",
      "metadata": {
        "id": "kocADHszgPlg",
        "colab": {
          "base_uri": "https://localhost:8080/",
          "height": 104
        },
        "outputId": "c4352366-7b8d-473f-f797-6b78304ee3fe"
      },
      "source": [
        "my_foods = ['pizza', 'falafel', 'carrot cake'] \n",
        "friend_foods = my_foods[:]\n",
        "print(\"My favorite foods are:\")\n",
        "print(my_foods)\n",
        "print(\"\\nMy friend's favorite foods are:\")\n",
        "print(friend_foods)"
      ],
      "execution_count": null,
      "outputs": [
        {
          "output_type": "stream",
          "text": [
            "My favorite foods are:\n",
            "['pizza', 'falafel', 'carrot cake']\n",
            "\n",
            "My friend's favorite foods are:\n",
            "['pizza', 'falafel', 'carrot cake']\n"
          ],
          "name": "stdout"
        }
      ]
    },
    {
      "cell_type": "code",
      "metadata": {
        "id": "u3kX9Ug4homM",
        "colab": {
          "base_uri": "https://localhost:8080/",
          "height": 52
        },
        "outputId": "80e72371-9525-4dd6-a228-281bd18693b3"
      },
      "source": [
        "#TUPLES\n",
        "dimensions = (200, 50)\n",
        "print(dimensions[0])\n",
        "print(dimensions[1])"
      ],
      "execution_count": null,
      "outputs": [
        {
          "output_type": "stream",
          "text": [
            "200\n",
            "50\n"
          ],
          "name": "stdout"
        }
      ]
    },
    {
      "cell_type": "code",
      "metadata": {
        "id": "z_w3-lBehvXG",
        "colab": {
          "base_uri": "https://localhost:8080/",
          "height": 52
        },
        "outputId": "d80065c1-aa23-4fe5-e129-b5985acfa99f"
      },
      "source": [
        "dimensions = (200, 50)\n",
        "for dimension in dimensions:\n",
        "  print(dimension)"
      ],
      "execution_count": null,
      "outputs": [
        {
          "output_type": "stream",
          "text": [
            "200\n",
            "50\n"
          ],
          "name": "stdout"
        }
      ]
    },
    {
      "cell_type": "code",
      "metadata": {
        "id": "-lY3kfjch-qH",
        "colab": {
          "base_uri": "https://localhost:8080/",
          "height": 86
        },
        "outputId": "b915a08e-7e04-4714-c5d8-0efa2ba892f7"
      },
      "source": [
        "#IF STATEMENTS\n",
        "cars=['audi', 'bmw', 'subaru', 'toyota']\n",
        "for car in cars:\n",
        "  if cars == 'bmw':\n",
        "    print(car.upper())\n",
        "  else:\n",
        "    print(car.title())"
      ],
      "execution_count": null,
      "outputs": [
        {
          "output_type": "stream",
          "text": [
            "Audi\n",
            "Bmw\n",
            "Subaru\n",
            "Toyota\n"
          ],
          "name": "stdout"
        }
      ]
    },
    {
      "cell_type": "code",
      "metadata": {
        "id": "lc4Y56D-v_VP",
        "colab": {
          "base_uri": "https://localhost:8080/",
          "height": 34
        },
        "outputId": "1152a663-9377-44c2-d3fa-99207ceead32"
      },
      "source": [
        "car = 'bmw'\n",
        "car == 'bmw'"
      ],
      "execution_count": null,
      "outputs": [
        {
          "output_type": "execute_result",
          "data": {
            "text/plain": [
              "True"
            ]
          },
          "metadata": {
            "tags": []
          },
          "execution_count": 3
        }
      ]
    },
    {
      "cell_type": "code",
      "metadata": {
        "id": "xZsQWnmOxoG0",
        "colab": {
          "base_uri": "https://localhost:8080/",
          "height": 34
        },
        "outputId": "01746bbf-4f8f-445e-a441-552b223cdbd3"
      },
      "source": [
        "car1=\"AUDI\"\n",
        "car1.lower()=='audi'"
      ],
      "execution_count": null,
      "outputs": [
        {
          "output_type": "execute_result",
          "data": {
            "text/plain": [
              "True"
            ]
          },
          "metadata": {
            "tags": []
          },
          "execution_count": 4
        }
      ]
    },
    {
      "cell_type": "code",
      "metadata": {
        "id": "ijSsT6JlxqNO",
        "colab": {
          "base_uri": "https://localhost:8080/",
          "height": 34
        },
        "outputId": "5b985d89-d1dc-419b-a084-5ff890030225"
      },
      "source": [
        "#Numerical Comparisons\n",
        "ans=21\n",
        "\n",
        "if ans !=42:\n",
        "  print(\"That is not the correct answer. Please try again!\")"
      ],
      "execution_count": null,
      "outputs": [
        {
          "output_type": "stream",
          "text": [
            "That is not the correct answer. Please try again!\n"
          ],
          "name": "stdout"
        }
      ]
    },
    {
      "cell_type": "code",
      "metadata": {
        "id": "OvCcIHSw6o0C",
        "colab": {
          "base_uri": "https://localhost:8080/",
          "height": 34
        },
        "outputId": "3e5d58f4-c1c5-427d-e891-5f5f9dc2efca"
      },
      "source": [
        "age=10\n",
        "age < 21\n",
        "age <=21\n",
        "age > 21\n",
        "age <= 21"
      ],
      "execution_count": null,
      "outputs": [
        {
          "output_type": "execute_result",
          "data": {
            "text/plain": [
              "True"
            ]
          },
          "metadata": {
            "tags": []
          },
          "execution_count": 9
        }
      ]
    },
    {
      "cell_type": "code",
      "metadata": {
        "id": "oKoH9bIIHaFd",
        "colab": {
          "base_uri": "https://localhost:8080/",
          "height": 34
        },
        "outputId": "46940cb4-f5e3-4600-e9e4-ec7146c5dd54"
      },
      "source": [
        "requested_toppings = ['mushrooms', 'onions', 'pineapple']\n",
        "'mushrooms' in requested_toppings\n",
        "\n",
        "'pepperoni' in requested_toppings"
      ],
      "execution_count": null,
      "outputs": [
        {
          "output_type": "execute_result",
          "data": {
            "text/plain": [
              "False"
            ]
          },
          "metadata": {
            "tags": []
          },
          "execution_count": 2
        }
      ]
    },
    {
      "cell_type": "code",
      "metadata": {
        "id": "CUBoYSFLHu4Q",
        "colab": {
          "base_uri": "https://localhost:8080/",
          "height": 34
        },
        "outputId": "b280b17e-928b-4e81-f47e-51dfdc774c01"
      },
      "source": [
        "#Checking Whether a Value Is Not in a List\n",
        "banned_users = ['andrew', 'carolina', 'david']\n",
        "user = 'marie'\n",
        "\n",
        "if user not in banned_users:\n",
        "  print(f\"{user.title()}, you can post a response if you wish.\")"
      ],
      "execution_count": null,
      "outputs": [
        {
          "output_type": "stream",
          "text": [
            "Marie, you can post a response if you wish.\n"
          ],
          "name": "stdout"
        }
      ]
    },
    {
      "cell_type": "code",
      "metadata": {
        "id": "68L-VqkhIV90"
      },
      "source": [
        "#Boolean Expressions\n",
        "game_active = True\n",
        "can_edit = False"
      ],
      "execution_count": null,
      "outputs": []
    },
    {
      "cell_type": "code",
      "metadata": {
        "id": "r_3y62LFIf5k",
        "colab": {
          "base_uri": "https://localhost:8080/",
          "height": 34
        },
        "outputId": "89b31d67-8684-4de5-8340-f09760dac021"
      },
      "source": [
        "#IF STATEMENTS\n",
        "age = 19\n",
        "if age >=18:\n",
        "  print(\"Not Vote\")"
      ],
      "execution_count": null,
      "outputs": [
        {
          "output_type": "stream",
          "text": [
            "Not Vote\n"
          ],
          "name": "stdout"
        }
      ]
    },
    {
      "cell_type": "code",
      "metadata": {
        "id": "4ptAXt_3JEcS",
        "colab": {
          "base_uri": "https://localhost:8080/",
          "height": 34
        },
        "outputId": "3500d4f3-4daa-4624-f272-cee7d0bbc5b3"
      },
      "source": [
        "#if-else Statements\n",
        "age = 17\n",
        "if age >=18:\n",
        "  print(\"Not Vote\")\n",
        "else:\n",
        "  print(\"Vote\")"
      ],
      "execution_count": null,
      "outputs": [
        {
          "output_type": "stream",
          "text": [
            "Vote\n"
          ],
          "name": "stdout"
        }
      ]
    },
    {
      "cell_type": "code",
      "metadata": {
        "id": "jW_7lA5tKMKK",
        "colab": {
          "base_uri": "https://localhost:8080/",
          "height": 34
        },
        "outputId": "72757895-dbeb-4b05-9216-8244f7b6b82a"
      },
      "source": [
        "#The if-elif-else Chain\n",
        "age = 12\n",
        "\n",
        "if age < 4:\n",
        "  print(\"Your admission cost is $0.\")\n",
        "elif age < 18:\n",
        "  print(\"Your admission cost is $25.\")\n",
        "else:\n",
        "  print(\"Your admission cost is $40.\")"
      ],
      "execution_count": null,
      "outputs": [
        {
          "output_type": "stream",
          "text": [
            "Your admission cost is $25.\n"
          ],
          "name": "stdout"
        }
      ]
    },
    {
      "cell_type": "code",
      "metadata": {
        "id": "_FFR48YlKlm2",
        "colab": {
          "base_uri": "https://localhost:8080/",
          "height": 34
        },
        "outputId": "a7bf5a3b-2ada-450a-cd3c-73e6dfa7d337"
      },
      "source": [
        "age = 12\n",
        "\n",
        "if age < 4:\n",
        "  price=0\n",
        "elif age < 18:\n",
        "  price=25\n",
        "else:\n",
        "  price=40\n",
        "\n",
        "print(f\"Your admission cost is ${price}.\")"
      ],
      "execution_count": null,
      "outputs": [
        {
          "output_type": "stream",
          "text": [
            "Your admission cost is $25.\n"
          ],
          "name": "stdout"
        }
      ]
    },
    {
      "cell_type": "code",
      "metadata": {
        "id": "vszZTW1QLSE3",
        "colab": {
          "base_uri": "https://localhost:8080/",
          "height": 34
        },
        "outputId": "c546a4fc-2076-4f27-c0ee-f1e2264d2576"
      },
      "source": [
        "#Using Multiple elif Blocks\n",
        "age = 12\n",
        "\n",
        "if age < 4:\n",
        "  print('price = 0')\n",
        "elif age < 18:\n",
        "  print('price = 25')\n",
        "elif age < 65:\n",
        "  print('price = 40')\n",
        "else:\n",
        "  print('price = 20')"
      ],
      "execution_count": null,
      "outputs": [
        {
          "output_type": "stream",
          "text": [
            "price = 25\n"
          ],
          "name": "stdout"
        }
      ]
    },
    {
      "cell_type": "code",
      "metadata": {
        "id": "zfkadq9YMjb-",
        "colab": {
          "base_uri": "https://localhost:8080/",
          "height": 131
        },
        "outputId": "0e9f1074-f6f9-4979-d467-e2f7cde21a8a"
      },
      "source": [
        "#Omitting the else Block\n",
        "#Using Multiple elif Blocks\n",
        "age = 12\n",
        "\n",
        "if age < 4:\n",
        "  print('price = 0')\n",
        "elif age < 18:\n",
        "  print('price = 25')\n",
        "elif age < 65:\n",
        "  print('price = 40')\n",
        "elif:\n",
        "  print('price = 20')"
      ],
      "execution_count": null,
      "outputs": [
        {
          "output_type": "error",
          "ename": "SyntaxError",
          "evalue": "ignored",
          "traceback": [
            "\u001b[0;36m  File \u001b[0;32m\"<ipython-input-15-286af48c3eb2>\"\u001b[0;36m, line \u001b[0;32m11\u001b[0m\n\u001b[0;31m    elif:\u001b[0m\n\u001b[0m        ^\u001b[0m\n\u001b[0;31mSyntaxError\u001b[0m\u001b[0;31m:\u001b[0m invalid syntax\n"
          ]
        }
      ]
    },
    {
      "cell_type": "code",
      "metadata": {
        "id": "i_4CZNmzOs3C",
        "colab": {
          "base_uri": "https://localhost:8080/",
          "height": 86
        },
        "outputId": "05ed87b1-c419-4e75-cdac-08af50ff6193"
      },
      "source": [
        "#Testing Multiple Conditions\n",
        "requested_toppings = ['mushrooms', 'extra cheese']\n",
        "\n",
        "if 'mushrooms' in requested_toppings:\n",
        "  print(\"Adding mushrooms.\")\n",
        "if 'pepperoni' in requested_toppings:\n",
        "  print(\"Adding pepperoni.\")\n",
        "if 'extra cheese' in requested_toppings:\n",
        "  print(\"Adding extra cheese.\")\n",
        "\n",
        "print(\"\\nFinished making your pizza!\")"
      ],
      "execution_count": null,
      "outputs": [
        {
          "output_type": "stream",
          "text": [
            "Adding mushrooms.\n",
            "Adding extra cheese.\n",
            "\n",
            "Finished making your pizza!\n"
          ],
          "name": "stdout"
        }
      ]
    },
    {
      "cell_type": "code",
      "metadata": {
        "id": "a58tGa20sImf",
        "colab": {
          "base_uri": "https://localhost:8080/",
          "height": 104
        },
        "outputId": "c28ef0fa-4d5f-4822-8f90-2e626848cacf"
      },
      "source": [
        "#Checking for Special Items\n",
        "requested_toppings = ['mushrooms', 'green peppers', 'extra cheese']\n",
        "for requested_topping in requested_toppings:\n",
        "  print(f\"Adding {requested_topping}.\")\n",
        "\n",
        "print(\"\\nFinished making your pizza!\")"
      ],
      "execution_count": null,
      "outputs": [
        {
          "output_type": "stream",
          "text": [
            "Adding mushrooms.\n",
            "Adding green peppers.\n",
            "Adding extra cheese.\n",
            "\n",
            "Finished making your pizza!\n"
          ],
          "name": "stdout"
        }
      ]
    },
    {
      "cell_type": "code",
      "metadata": {
        "id": "dRiNRpLnKH8J"
      },
      "source": [
        ""
      ],
      "execution_count": null,
      "outputs": []
    },
    {
      "cell_type": "code",
      "metadata": {
        "id": "7XAxY5MttzdA",
        "colab": {
          "base_uri": "https://localhost:8080/",
          "height": 34
        },
        "outputId": "75759bef-dfc9-4eaf-c2d4-4901dd3bee98"
      },
      "source": [
        "#Checking That a List Is Not Empty\n",
        "requested_toppings = []\n",
        "if requested_toppings:\n",
        "  for requested_topping in requested_toppings:\n",
        "    print(f\"Adding {requested_topping}.\")\n",
        "  print(\"\\nFinished making your pizza!\")\n",
        "else:\n",
        "  print(\"Are you sure you want a plain pizza?\")"
      ],
      "execution_count": null,
      "outputs": [
        {
          "output_type": "stream",
          "text": [
            "Are you sure you want a plain pizza?\n"
          ],
          "name": "stdout"
        }
      ]
    },
    {
      "cell_type": "code",
      "metadata": {
        "id": "d9prcxNSvJjM",
        "colab": {
          "base_uri": "https://localhost:8080/",
          "height": 104
        },
        "outputId": "c9dbb060-7044-4c54-877b-768a51318915"
      },
      "source": [
        "available_toppings = ['mushrooms', 'olives', 'green peppers','pepperoni', 'pineapple', 'extra cheese']\n",
        "requested_toppings = ['mushrooms', 'french fries', 'extra cheese']\n",
        "\n",
        "for requested_topping in requested_toppings:\n",
        "  if requested_topping in available_toppings:\n",
        "    print(f\"Adding {requested_topping}.\")\n",
        "  else:\n",
        "    print(f\"Sorry, we don't have {requested_topping}.\")\n",
        "  \n",
        "print(\"\\nFinished making your pizza!\")"
      ],
      "execution_count": null,
      "outputs": [
        {
          "output_type": "stream",
          "text": [
            "Adding mushrooms.\n",
            "Sorry, we don't have french fries.\n",
            "Adding extra cheese.\n",
            "\n",
            "Finished making your pizza!\n"
          ],
          "name": "stdout"
        }
      ]
    },
    {
      "cell_type": "code",
      "metadata": {
        "id": "znrd8bnhxDlt",
        "colab": {
          "base_uri": "https://localhost:8080/",
          "height": 52
        },
        "outputId": "422a122c-fe2d-4219-9249-8bc9df009e29"
      },
      "source": [
        "#DICTIONARIES\n",
        "alien_0 = {'color': 'green', 'points': 5}\n",
        "\n",
        "print(alien_0['color'])\n",
        "print(alien_0['points'])"
      ],
      "execution_count": null,
      "outputs": [
        {
          "output_type": "stream",
          "text": [
            "green\n",
            "5\n"
          ],
          "name": "stdout"
        }
      ]
    },
    {
      "cell_type": "code",
      "metadata": {
        "id": "TsBCyeswynv8"
      },
      "source": [
        "#A dictionary in Python is a collection of key-value pairs. Each key is connected to a value, and you can use a key to access the value associated with that key. A key’s value can be a number, a string, a list, or even another dictionary. In fact, you can use any object that you can create in Python as a value in a dictionary.\n",
        "alien_0 = {'color': 'green', 'points': 5}\n",
        "\n",
        "alien_0 = {'color': 'green'}"
      ],
      "execution_count": null,
      "outputs": []
    },
    {
      "cell_type": "code",
      "metadata": {
        "id": "u2AS0B4gze6A",
        "colab": {
          "base_uri": "https://localhost:8080/",
          "height": 34
        },
        "outputId": "7cdbc006-ac7d-41e0-d2fc-a65fa6270844"
      },
      "source": [
        "#Accessing Values in a Dictionary\n",
        "alien_0 = {'color': 'green'}\n",
        "print(alien_0['color'])"
      ],
      "execution_count": null,
      "outputs": [
        {
          "output_type": "stream",
          "text": [
            "green\n"
          ],
          "name": "stdout"
        }
      ]
    },
    {
      "cell_type": "code",
      "metadata": {
        "id": "S_eshfbRzjoA",
        "colab": {
          "base_uri": "https://localhost:8080/",
          "height": 34
        },
        "outputId": "8862d05e-64cd-46b3-f3c0-69f80d9dedcb"
      },
      "source": [
        "alien_0 = {'color': 'green', 'points': 5}\n",
        "new_points = alien_0['points']\n",
        "print(f\"You just earned {new_points} points!\")"
      ],
      "execution_count": null,
      "outputs": [
        {
          "output_type": "stream",
          "text": [
            "You just earned 5 points!\n"
          ],
          "name": "stdout"
        }
      ]
    },
    {
      "cell_type": "code",
      "metadata": {
        "id": "Cjmne_rDzwZ_"
      },
      "source": [
        "#Adding New Key-Value Pairs\n",
        "alien_0 = {'color': 'green', 'points': 5}\n",
        "print(alien_0)\n",
        "\n",
        "alien_0['x_position'] = 0\n",
        "alien_0['y_position'] = 25\n"
      ],
      "execution_count": null,
      "outputs": []
    },
    {
      "cell_type": "code",
      "metadata": {
        "id": "-4G2dTGDKOWM",
        "colab": {
          "base_uri": "https://localhost:8080/",
          "height": 34
        },
        "outputId": "ab4a9774-3a4d-4226-e6d0-575046d8676e"
      },
      "source": [
        "#Starting with an Empty Dictionary\n",
        "alien_0 = {}\n",
        "alien_0['color'] = 'green'\n",
        "alien_0['points'] = 5\n",
        "\n",
        "print(alien_0)"
      ],
      "execution_count": null,
      "outputs": [
        {
          "output_type": "stream",
          "text": [
            "{'color': 'green', 'points': 5}\n"
          ],
          "name": "stdout"
        }
      ]
    },
    {
      "cell_type": "code",
      "metadata": {
        "id": "qWEkhkubKtHr",
        "colab": {
          "base_uri": "https://localhost:8080/",
          "height": 52
        },
        "outputId": "8cd2f746-c719-4af7-df50-58c2be691ae4"
      },
      "source": [
        "#Modifying Values in a Dictionary\n",
        "alien_0 = {'color': 'green'}\n",
        "print(f\"The alien is {alien_0['color']}.\")\n",
        "\n",
        "alien_0['color'] = 'yellow'\n",
        "print(f\"The alien is now {alien_0['color']}.\")"
      ],
      "execution_count": null,
      "outputs": [
        {
          "output_type": "stream",
          "text": [
            "The alien is green.\n",
            "The alien is now yellow.\n"
          ],
          "name": "stdout"
        }
      ]
    },
    {
      "cell_type": "code",
      "metadata": {
        "id": "FDhDFuu8LTGV",
        "colab": {
          "base_uri": "https://localhost:8080/",
          "height": 52
        },
        "outputId": "05e8b03f-2950-4ddc-cf6b-55ab431b79ad"
      },
      "source": [
        "alien_0 = {'x_position': 0, 'y_position': 25, 'speed': 'medium'}\n",
        "print(f\"Original position: {alien_0['x_position']}\")\n",
        "\n",
        "# Move the alien to the right.\n",
        "# Determine how far to move the alien based on its current speed.\n",
        "if alien_0['speed'] == 'slow':\n",
        "  x_increment = 1\n",
        "elif alien_0['speed'] == 'medium':\n",
        "  x_increment = 2\n",
        "else:\n",
        "  x_increment = 3\n",
        "\n",
        "# The new position is the old position plus the increment.\n",
        "alien_0['x_position'] = alien_0['x_position'] + x_increment\n",
        "\n",
        "print(f\"New position: {alien_0['x_position']}\")"
      ],
      "execution_count": null,
      "outputs": [
        {
          "output_type": "stream",
          "text": [
            "Original position: 0\n",
            "New position: 2\n"
          ],
          "name": "stdout"
        }
      ]
    },
    {
      "cell_type": "code",
      "metadata": {
        "id": "06SpnGHOMWw4",
        "colab": {
          "base_uri": "https://localhost:8080/",
          "height": 52
        },
        "outputId": "485427c8-9695-40f2-ae6b-b953839e249a"
      },
      "source": [
        "#Removing Key-Value Pairs\n",
        "alien_0 = {'color': 'green', 'points': 5}\n",
        "print(alien_0)\n",
        "\n",
        "del alien_0['points']\n",
        "print(alien_0)"
      ],
      "execution_count": null,
      "outputs": [
        {
          "output_type": "stream",
          "text": [
            "{'color': 'green', 'points': 5}\n",
            "{'color': 'green'}\n"
          ],
          "name": "stdout"
        }
      ]
    },
    {
      "cell_type": "code",
      "metadata": {
        "id": "k_DNozCFM18n",
        "colab": {
          "base_uri": "https://localhost:8080/",
          "height": 34
        },
        "outputId": "41746a69-0116-444e-da42-88a4c6537366"
      },
      "source": [
        "#A Dictionary of Similar Objects\n",
        "favorite_languages = {\n",
        "    'jen': 'python',\n",
        "    'sarah': 'c',\n",
        "    'edward': 'ruby',\n",
        "    'phil': 'python',\n",
        "    }\n",
        "\n",
        "language = favorite_languages['sarah'].title()\n",
        "print(f\"Sarah's favorite language is {language}.\")"
      ],
      "execution_count": null,
      "outputs": [
        {
          "output_type": "stream",
          "text": [
            "Sarah's favorite language is C.\n"
          ],
          "name": "stdout"
        }
      ]
    },
    {
      "cell_type": "code",
      "metadata": {
        "id": "rKDOWvilN3ch",
        "colab": {
          "base_uri": "https://localhost:8080/",
          "height": 86
        },
        "outputId": "ca41a788-b76e-400b-d539-94bdd3ceda0c"
      },
      "source": [
        "#Looping Through a Dictionary’s Keys in a Particular Order\n",
        "favorite_languages = {\n",
        "    'jen': 'python',\n",
        "    'sarah': 'c',\n",
        "    'edward': 'ruby',\n",
        "    'phil': 'python',\n",
        "    }\n",
        "for name in sorted(favorite_languages.keys()):\n",
        "  print(f\"{name.title()}, thank you for taking the poll.\")"
      ],
      "execution_count": null,
      "outputs": [
        {
          "output_type": "stream",
          "text": [
            "Edward, thank you for taking the poll.\n",
            "Jen, thank you for taking the poll.\n",
            "Phil, thank you for taking the poll.\n",
            "Sarah, thank you for taking the poll.\n"
          ],
          "name": "stdout"
        }
      ]
    },
    {
      "cell_type": "code",
      "metadata": {
        "id": "fwM74tifOgVk",
        "colab": {
          "base_uri": "https://localhost:8080/",
          "height": 104
        },
        "outputId": "92a302fa-df78-49fa-ff27-da3e29002b48"
      },
      "source": [
        "#Looping Through All Values in a Dictionary\n",
        "favorite_languages = {\n",
        "    'jen': 'python',\n",
        "    'sarah': 'c',\n",
        "    'edward': 'ruby',\n",
        "    'phil': 'python',\n",
        "    }\n",
        "\n",
        "print(\"The following languages have been mentioned:\")\n",
        "for language in favorite_languages.values():\n",
        "    print(language.title())"
      ],
      "execution_count": null,
      "outputs": [
        {
          "output_type": "stream",
          "text": [
            "The following languages have been mentioned:\n",
            "Python\n",
            "C\n",
            "Ruby\n",
            "Python\n"
          ],
          "name": "stdout"
        }
      ]
    },
    {
      "cell_type": "code",
      "metadata": {
        "id": "UYc09l9cOn8D",
        "colab": {
          "base_uri": "https://localhost:8080/",
          "height": 69
        },
        "outputId": "8e980848-cfe4-40c0-fda7-e271ae5c7342"
      },
      "source": [
        "#A List of Dictionaries\n",
        "alien_0 = {'color': 'green', 'points': 5}\n",
        "alien_1 = {'color': 'yellow', 'points': 10}\n",
        "alien_2 = {'color': 'red', 'points': 15}\n",
        "\n",
        "aliens = [alien_0, alien_1, alien_2]\n",
        "for alien in aliens:\n",
        "  print(alien)"
      ],
      "execution_count": null,
      "outputs": [
        {
          "output_type": "stream",
          "text": [
            "{'color': 'green', 'points': 5}\n",
            "{'color': 'yellow', 'points': 10}\n",
            "{'color': 'red', 'points': 15}\n"
          ],
          "name": "stdout"
        }
      ]
    },
    {
      "cell_type": "code",
      "metadata": {
        "id": "VcZ2pJPJPAq3",
        "colab": {
          "base_uri": "https://localhost:8080/",
          "height": 121
        },
        "outputId": "3765e8a1-68bd-483f-e506-5daa8f610e35"
      },
      "source": [
        "# Make an empty list for storing aliens.\n",
        "aliens = []\n",
        "\n",
        "# Make 30 green aliens.\n",
        "for alien_number in range (30):\n",
        "    new_alien = {'color': 'green', 'points': 5, 'speed': 'slow'}\n",
        "    aliens.append(new_alien)\n",
        "\n",
        "for alien in aliens[:3]:\n",
        "    if alien['color'] == 'green':\n",
        "        alien['color'] = 'yellow'\n",
        "        alien['speed'] = 'medium'\n",
        "        alien['points'] = 10\n",
        "\n",
        "# Show the first 5 aliens.\n",
        "for alien in aliens[:5]:\n",
        "    print(alien)\n",
        "print(\"...\")"
      ],
      "execution_count": null,
      "outputs": [
        {
          "output_type": "stream",
          "text": [
            "{'color': 'yellow', 'points': 10, 'speed': 'medium'}\n",
            "{'color': 'yellow', 'points': 10, 'speed': 'medium'}\n",
            "{'color': 'yellow', 'points': 10, 'speed': 'medium'}\n",
            "{'color': 'green', 'points': 5, 'speed': 'slow'}\n",
            "{'color': 'green', 'points': 5, 'speed': 'slow'}\n",
            "...\n"
          ],
          "name": "stdout"
        }
      ]
    },
    {
      "cell_type": "code",
      "metadata": {
        "id": "TlEvuJ8fPJ-l",
        "colab": {
          "base_uri": "https://localhost:8080/",
          "height": 155
        },
        "outputId": "2841c8d6-d515-45c9-ac2f-471839479a47"
      },
      "source": [
        "users = {\n",
        "       'aeinstein': {\n",
        "           'first': 'albert',\n",
        "           'last': 'einstein',\n",
        "           'location': 'princeton',\n",
        "           },\n",
        "\n",
        "       'mcurie': {\n",
        "           'first': 'marie',\n",
        "           'last': 'curie',\n",
        "           'location': 'paris',\n",
        "           },\n",
        "       }\n",
        "\n",
        "for username, user_info in users.items():\n",
        "  print(f\"\\nUsername: {username}\")\n",
        "  full_name = f\"{user_info['first']} {user_info['last']}\"\n",
        "  location = user_info['location']\n",
        "\n",
        "  print(f\"\\tFull name: {full_name.title()}\")\n",
        "  print(f\"\\tLocation: {location.title()}\")"
      ],
      "execution_count": null,
      "outputs": [
        {
          "output_type": "stream",
          "text": [
            "\n",
            "Username: aeinstein\n",
            "\tFull name: Albert Einstein\n",
            "\tLocation: Princeton\n",
            "\n",
            "Username: mcurie\n",
            "\tFull name: Marie Curie\n",
            "\tLocation: Paris\n"
          ],
          "name": "stdout"
        }
      ]
    },
    {
      "cell_type": "code",
      "metadata": {
        "id": "wE0bdyrZQtmf",
        "colab": {
          "base_uri": "https://localhost:8080/"
        },
        "outputId": "6ee13947-d0ae-496b-d3a5-7467d9132c02"
      },
      "source": [
        "#USER INPUT AND WHILE LOOPS\n",
        "#HOW THE INPUT() FUNCTION WORKS\n",
        "#The input() function pauses your program and waits for the user to enter some text. Once Python receives the user’s input, it assigns that input to a variable to make it convenient for you to work with.\n",
        "message = input(\"Tell me something, and I will repeat it back to you: \")\n",
        "print(message)"
      ],
      "execution_count": null,
      "outputs": [
        {
          "output_type": "stream",
          "text": [
            "Tell me something, and I will repeat it back to you: no\n",
            "no\n"
          ],
          "name": "stdout"
        }
      ]
    },
    {
      "cell_type": "code",
      "metadata": {
        "id": "gD6HMU9MOkxZ",
        "colab": {
          "base_uri": "https://localhost:8080/"
        },
        "outputId": "bd8bf956-f809-4289-a01c-fc76a7846236"
      },
      "source": [
        "prompt = \"If you tell us who you are, we can personalize the messages you see.\"\n",
        "prompt += \"\\nWhat is your first name? \"\n",
        "\n",
        "name = input(prompt)\n",
        "print(f\"\\nHello, {name}!\")"
      ],
      "execution_count": null,
      "outputs": [
        {
          "output_type": "stream",
          "text": [
            "If you tell us who you are, we can personalize the messages you see.\n",
            "What is your first name? pratiksha \n",
            "\n",
            "Hello, pratiksha !\n"
          ],
          "name": "stdout"
        }
      ]
    },
    {
      "cell_type": "code",
      "metadata": {
        "id": "yScEo0X6PAH5",
        "colab": {
          "base_uri": "https://localhost:8080/",
          "height": 52
        },
        "outputId": "c1ca9ab3-ed9b-4c27-c190-52dce509177d"
      },
      "source": [
        "age = input(\"How old are you? \")\n",
        "age"
      ],
      "execution_count": null,
      "outputs": [
        {
          "output_type": "stream",
          "text": [
            "How old are you? 20\n"
          ],
          "name": "stdout"
        },
        {
          "output_type": "execute_result",
          "data": {
            "application/vnd.google.colaboratory.intrinsic+json": {
              "type": "string"
            },
            "text/plain": [
              "'20'"
            ]
          },
          "metadata": {
            "tags": []
          },
          "execution_count": 4
        }
      ]
    },
    {
      "cell_type": "code",
      "metadata": {
        "id": "a9mwtGqiQ-g5",
        "colab": {
          "base_uri": "https://localhost:8080/"
        },
        "outputId": "6b3c44e4-b9ae-48d2-a535-4be5c3b32d8d"
      },
      "source": [
        "height = input(\"How tall are you, in inches? \")\n",
        "height = int(height)\n",
        "\n",
        "if height >= 48:\n",
        "    print(\"\\nYou're tall enough to ride!\")\n",
        "else:\n",
        "    print(\"\\nYou'll be able to ride when you're a little older.\")"
      ],
      "execution_count": null,
      "outputs": [
        {
          "output_type": "stream",
          "text": [
            "How tall are you, in inches? 11\n",
            "\n",
            "You'll be able to ride when you're a little older.\n"
          ],
          "name": "stdout"
        }
      ]
    },
    {
      "cell_type": "code",
      "metadata": {
        "id": "sK1wvy_Zrj0L",
        "colab": {
          "base_uri": "https://localhost:8080/"
        },
        "outputId": "ba0c39dc-0c2b-4671-b603-9543286e9068"
      },
      "source": [
        "#The Modulo Operator\n",
        "4 % 3"
      ],
      "execution_count": null,
      "outputs": [
        {
          "output_type": "execute_result",
          "data": {
            "text/plain": [
              "1"
            ]
          },
          "metadata": {
            "tags": []
          },
          "execution_count": 1
        }
      ]
    },
    {
      "cell_type": "code",
      "metadata": {
        "id": "GVr2ieCiuPxw",
        "colab": {
          "base_uri": "https://localhost:8080/"
        },
        "outputId": "d7b61d76-8412-4da6-b077-048e32fb1092"
      },
      "source": [
        "5 % 3"
      ],
      "execution_count": null,
      "outputs": [
        {
          "output_type": "execute_result",
          "data": {
            "text/plain": [
              "2"
            ]
          },
          "metadata": {
            "tags": []
          },
          "execution_count": 2
        }
      ]
    },
    {
      "cell_type": "code",
      "metadata": {
        "id": "ax_tWtDPuVDG",
        "colab": {
          "base_uri": "https://localhost:8080/"
        },
        "outputId": "fa3f0cee-cc06-41e9-a7f0-0a43108a864c"
      },
      "source": [
        "6 % 3"
      ],
      "execution_count": null,
      "outputs": [
        {
          "output_type": "execute_result",
          "data": {
            "text/plain": [
              "0"
            ]
          },
          "metadata": {
            "tags": []
          },
          "execution_count": 3
        }
      ]
    },
    {
      "cell_type": "code",
      "metadata": {
        "id": "OZL-N44suiu5",
        "colab": {
          "base_uri": "https://localhost:8080/"
        },
        "outputId": "55ae821d-289f-4ebc-ae04-8b5dac5e0a62"
      },
      "source": [
        "#The modulo operator doesn’t tell you how many times one number fits into another; it just tells you what the remainder is.\n",
        "number = input(\"Enter a number, and I'll tell you if it's even or odd: \")\n",
        "number = int(number)\n",
        "\n",
        "if number % 2 == 0:\n",
        "  print(f\"\\nThe number {number} is even.\")\n",
        "else:\n",
        "  print(f\"\\nThe number {number} is odd.\")"
      ],
      "execution_count": null,
      "outputs": [
        {
          "output_type": "stream",
          "text": [
            "Enter a number, and I'll tell you if it's even or odd: 19\n",
            "\n",
            "The number 19 is odd.\n"
          ],
          "name": "stdout"
        }
      ]
    },
    {
      "cell_type": "code",
      "metadata": {
        "id": "SFQUTOUswKKn",
        "colab": {
          "base_uri": "https://localhost:8080/"
        },
        "outputId": "d0b5ca45-7d5a-4937-b9ae-31c458f2ac81"
      },
      "source": [
        "#INTRODUCING WHILE LOOPS\n",
        "#The while Loop in Action\n",
        "current_number = 1\n",
        "while current_number <= 5:\n",
        "    print(current_number)\n",
        "    current_number += 1"
      ],
      "execution_count": null,
      "outputs": [
        {
          "output_type": "stream",
          "text": [
            "1\n",
            "2\n",
            "3\n",
            "4\n",
            "5\n"
          ],
          "name": "stdout"
        }
      ]
    },
    {
      "cell_type": "code",
      "metadata": {
        "id": "eSFQ_jYKw6wN",
        "colab": {
          "base_uri": "https://localhost:8080/"
        },
        "outputId": "7f17af31-eb98-4f2e-aac1-8b3f150fb8a5"
      },
      "source": [
        "#Letting the User Choose When to Quit\n",
        "prompt = \"\\nTell me something, and I will repeat it back to you:\"\n",
        "prompt += \"\\nEnter 'quit' to end the program. \"\n",
        "\n",
        "message = \"\"\n",
        "while message != 'quit':\n",
        "  message = input(prompt)\n",
        "  print(message)"
      ],
      "execution_count": null,
      "outputs": [
        {
          "output_type": "stream",
          "text": [
            "\n",
            "Tell me something, and I will repeat it back to you:\n",
            "Enter 'quit' to end the program. quit\n",
            "quit\n"
          ],
          "name": "stdout"
        }
      ]
    },
    {
      "cell_type": "code",
      "metadata": {
        "id": "KseA5USaxkwq",
        "colab": {
          "base_uri": "https://localhost:8080/"
        },
        "outputId": "4bc002f1-0720-4c6d-d187-f3cef55186aa"
      },
      "source": [
        "#Using a Flag\n",
        "prompt = \"\\nTell me something, and I will repeat it back to you:\"\n",
        "prompt += \"\\nEnter 'quit' to end the program. \"\n",
        "\n",
        "active = True\n",
        "while active:\n",
        "  message = input(prompt)\n",
        "\n",
        "  if message == 'quit':\n",
        "    active = False\n",
        "  else:\n",
        "    print(message)"
      ],
      "execution_count": null,
      "outputs": [
        {
          "output_type": "stream",
          "text": [
            "\n",
            "Tell me something, and I will repeat it back to you:\n",
            "Enter 'quit' to end the program. no\n",
            "no\n",
            "\n",
            "Tell me something, and I will repeat it back to you:\n",
            "Enter 'quit' to end the program. quit\n"
          ],
          "name": "stdout"
        }
      ]
    },
    {
      "cell_type": "code",
      "metadata": {
        "id": "qpo_3U67ycpF"
      },
      "source": [
        "#Using break to Exit a Loop\n",
        "prompt = \"\\nPlease enter the name of a city you have visited:\"\n",
        "prompt += \"\\n(Enter 'quit' when you are finished.) \"\n",
        "\n",
        "while True:\n",
        "  while active:\n",
        "    message = input(prompt)\n",
        "\n",
        "    if message == 'quit':\n",
        "      active = False\n",
        "    else:\n",
        "      print(message)"
      ],
      "execution_count": null,
      "outputs": []
    },
    {
      "cell_type": "code",
      "metadata": {
        "id": "MSh9Nt3xWjrs",
        "colab": {
          "base_uri": "https://localhost:8080/"
        },
        "outputId": "4eecbbac-1868-4caf-ba25-a524352d6dc0"
      },
      "source": [
        "#Using continue in a Loop\n",
        "current_number = 0\n",
        "while current_number < 10:\n",
        "  current_number += 1\n",
        "  if current_number % 2 == 0:\n",
        "    continue\n",
        "\n",
        "  print(current_number)"
      ],
      "execution_count": null,
      "outputs": [
        {
          "output_type": "stream",
          "text": [
            "1\n",
            "3\n",
            "5\n",
            "7\n",
            "9\n"
          ],
          "name": "stdout"
        }
      ]
    },
    {
      "cell_type": "code",
      "metadata": {
        "id": "NCyo90w6XdTO"
      },
      "source": [
        "#Avoiding Infinite Loops\n",
        "x = 1\n",
        "while x <= 5:\n",
        "    print(x)\n",
        "    x += 1"
      ],
      "execution_count": null,
      "outputs": []
    },
    {
      "cell_type": "code",
      "metadata": {
        "id": "4XMNN_wyXkGM",
        "colab": {
          "base_uri": "https://localhost:8080/"
        },
        "outputId": "6a5baad8-b199-409e-b36c-f355db85c289"
      },
      "source": [
        "#USING A WHILE LOOP WITH LISTS AND DICTIONARIES\n",
        "# Start with users that need to be verified,\n",
        "#  and an empty list to hold confirmed users.\n",
        "\n",
        "unconfirmed_users = ['alice', 'brian', 'candace']\n",
        "confirmed_users = []\n",
        "\n",
        "while unconfirmed_users:\n",
        "  current_user = unconfirmed_users.pop()\n",
        "\n",
        "  print(f\"Verifying user: {current_user.title()}\")\n",
        "  confirmed_users.append(current_user)\n",
        "\n",
        "print(\"\\nThe following users have been confirmed:\")\n",
        "for confirmed_user in confirmed_users:\n",
        "  print(confirmed_user.title())"
      ],
      "execution_count": null,
      "outputs": [
        {
          "output_type": "stream",
          "text": [
            "Verifying user: Candace\n",
            "Verifying user: Brian\n",
            "Verifying user: Alice\n",
            "\n",
            "The following users have been confirmed:\n",
            "Candace\n",
            "Brian\n",
            "Alice\n"
          ],
          "name": "stdout"
        }
      ]
    },
    {
      "cell_type": "code",
      "metadata": {
        "id": "Y3qSaLY-YYyM",
        "colab": {
          "base_uri": "https://localhost:8080/"
        },
        "outputId": "a874991f-9ba0-4802-adcc-4df70bd82c8c"
      },
      "source": [
        "pets = ['dog', 'cat', 'dog', 'goldfish', 'cat', 'rabbit', 'cat']\n",
        "print(pets)\n",
        "\n",
        "while 'cat' in pets:\n",
        "    pets.remove('cat')\n",
        "\n",
        "print(pets)"
      ],
      "execution_count": null,
      "outputs": [
        {
          "output_type": "stream",
          "text": [
            "['dog', 'cat', 'dog', 'goldfish', 'cat', 'rabbit', 'cat']\n",
            "['dog', 'dog', 'goldfish', 'rabbit']\n"
          ],
          "name": "stdout"
        }
      ]
    },
    {
      "cell_type": "code",
      "metadata": {
        "id": "48LpE61kYkdQ",
        "colab": {
          "base_uri": "https://localhost:8080/"
        },
        "outputId": "ef0f6149-9669-4432-db97-e0caa8fdc363"
      },
      "source": [
        "#Filling a Dictionary with User Input\n",
        "responses = {}\n",
        "\n",
        "# Set a flag to indicate that polling is active.\n",
        "polling_active = True\n",
        "# Prompt for the person's name and response.\n",
        "while polling_active:\n",
        "  name = input(\"\\nWhat is your name? \")\n",
        "  response = input(\"Which mountain would you like to climb someday? \")\n",
        "  \n",
        "  # Store the response in the dictionary.\n",
        "  responses[name] = response\n",
        "  \n",
        "  # Find out if anyone else is going to take the poll.\n",
        "  repeat = input(\"Would you like to let another person respond? (yes/ no) \")\n",
        "  if repeat == 'no':\n",
        "    polling_active = False"
      ],
      "execution_count": null,
      "outputs": [
        {
          "output_type": "stream",
          "text": [
            "\n",
            "What is your name? pratu\n",
            "Which mountain would you like to climb someday? yes\n",
            "Would you like to let another person respond? (yes/ no) no\n"
          ],
          "name": "stdout"
        }
      ]
    },
    {
      "cell_type": "code",
      "metadata": {
        "id": "gXbpq1FuaJf1",
        "colab": {
          "base_uri": "https://localhost:8080/"
        },
        "outputId": "8a5db4d8-5ce2-47d0-b429-95811d70f3fd"
      },
      "source": [
        "#FUNCTIONS\n",
        "\n",
        "def greet_user():\n",
        "  \"\"\"Display a simple greeting.\"\"\"\n",
        "  print(\"Hello!\")\n",
        "\n",
        "greet_user()"
      ],
      "execution_count": null,
      "outputs": [
        {
          "output_type": "stream",
          "text": [
            "Hello!\n"
          ],
          "name": "stdout"
        }
      ]
    },
    {
      "cell_type": "code",
      "metadata": {
        "id": "J5J6z_sFbobc",
        "colab": {
          "base_uri": "https://localhost:8080/"
        },
        "outputId": "ba6f52ab-7551-49e3-8029-479f9feee769"
      },
      "source": [
        "#Passing Information to a Function\n",
        "def greet_user(username):\n",
        "  \"\"\"Display a simple greeting.\"\"\"\n",
        "  print(f\"Hello, {username.title()}!\")\n",
        "\n",
        "greet_user('jesse')"
      ],
      "execution_count": null,
      "outputs": [
        {
          "output_type": "stream",
          "text": [
            "Hello, Jesse!\n"
          ],
          "name": "stdout"
        }
      ]
    },
    {
      "cell_type": "code",
      "metadata": {
        "id": "aAfGAwv1qpG7",
        "colab": {
          "base_uri": "https://localhost:8080/"
        },
        "outputId": "a91e52c4-65b3-468f-85a0-f49139ace39f"
      },
      "source": [
        "#PASSING ARGUMENTS\n",
        "def describe_pet(animal_type, pet_name):\n",
        "  \"\"\"Display information about a pet.\"\"\"\n",
        "  print(f\"\\nI have a {animal_type}.\")\n",
        "  print(f\"My {animal_type}'s name is {pet_name.title()}.\")\n",
        "describe_pet('hamster', 'harry')"
      ],
      "execution_count": null,
      "outputs": [
        {
          "output_type": "stream",
          "text": [
            "\n",
            "I have a hamster.\n",
            "My hamster's name is Harry.\n"
          ],
          "name": "stdout"
        }
      ]
    },
    {
      "cell_type": "code",
      "metadata": {
        "id": "6dQw5Y7grI0y",
        "colab": {
          "base_uri": "https://localhost:8080/"
        },
        "outputId": "aa3e018b-47d5-41b9-9f52-e2be5c926ebf"
      },
      "source": [
        "#Multiple Function Calls\n",
        "def describe_pet(animal_type, pet_name):\n",
        "  \"\"\"Display information about a pet.\"\"\"\n",
        "  print(f\"\\nI have a {animal_type}.\")\n",
        "  print(f\"My {animal_type}'s name is {pet_name.title()}.\")\n",
        "describe_pet('hamster', 'harry')\n",
        "\n",
        "describe_pet('dog', 'willie')"
      ],
      "execution_count": null,
      "outputs": [
        {
          "output_type": "stream",
          "text": [
            "\n",
            "I have a hamster.\n",
            "My hamster's name is Harry.\n",
            "\n",
            "I have a dog.\n",
            "My dog's name is Willie.\n"
          ],
          "name": "stdout"
        }
      ]
    },
    {
      "cell_type": "code",
      "metadata": {
        "id": "xZ1xj5cKrgc9",
        "colab": {
          "base_uri": "https://localhost:8080/"
        },
        "outputId": "b3ed3026-4ca9-4267-a6c1-798707498850"
      },
      "source": [
        "#Keyword Arguments\n",
        "def describe_pet(animal_type, pet_name):\n",
        "    \"\"\"Display information about a pet.\"\"\"\n",
        "    print(f\"\\nI have a {animal_type}.\")\n",
        "    print(f\"My {animal_type}'s name is {pet_name.title()}.\")\n",
        "\n",
        "describe_pet(animal_type='hamster', pet_name='harry')"
      ],
      "execution_count": null,
      "outputs": [
        {
          "output_type": "stream",
          "text": [
            "\n",
            "I have a hamster.\n",
            "My hamster's name is Harry.\n"
          ],
          "name": "stdout"
        }
      ]
    },
    {
      "cell_type": "code",
      "metadata": {
        "id": "M2bJhywGr33s",
        "colab": {
          "base_uri": "https://localhost:8080/"
        },
        "outputId": "a26868a2-bfcf-4d3b-d3e2-239e55e8fa76"
      },
      "source": [
        "#Default Values\n",
        "def describe_pet(pet_name, animal_type='dog'):\n",
        "    \"\"\"Display information about a pet.\"\"\"\n",
        "    print(f\"\\nI have a {animal_type}.\")\n",
        "    print(f\"My {animal_type}'s name is {pet_name.title()}.\")\n",
        "\n",
        "describe_pet(pet_name='willie')"
      ],
      "execution_count": null,
      "outputs": [
        {
          "output_type": "stream",
          "text": [
            "\n",
            "I have a dog.\n",
            "My dog's name is Willie.\n"
          ],
          "name": "stdout"
        }
      ]
    },
    {
      "cell_type": "code",
      "metadata": {
        "id": "9ulzgLXptDS_",
        "colab": {
          "base_uri": "https://localhost:8080/"
        },
        "outputId": "678ce6d7-ff01-4b11-e2c6-c734ec5a3c84"
      },
      "source": [
        "#RETURN VALUES\n",
        "def get_formatted_name(first_name, last_name):\n",
        "  \"\"\"Return a full name, neatly formatted.\"\"\"\n",
        "  full_name = f\"{first_name} {last_name}\"\n",
        "  return full_name.title()\n",
        "\n",
        "musician = get_formatted_name('jimi', 'hendrix')\n",
        "print(musician)"
      ],
      "execution_count": null,
      "outputs": [
        {
          "output_type": "stream",
          "text": [
            "Jimi Hendrix\n"
          ],
          "name": "stdout"
        }
      ]
    },
    {
      "cell_type": "code",
      "metadata": {
        "id": "-yXr7cPovIzn",
        "colab": {
          "base_uri": "https://localhost:8080/"
        },
        "outputId": "59a0b58b-11b6-48a3-c010-799ea9c17cad"
      },
      "source": [
        "#Making an Argument Optional\n",
        "def get_formatted_name(first_name, middle_name, last_name):\n",
        "    \"\"\"Return a full name, neatly formatted.\"\"\"\n",
        "    full_name = f\"{first_name} {middle_name} {last_name}\"\n",
        "    return full_name.title()\n",
        "\n",
        "musician = get_formatted_name('john', 'lee', 'hooker')\n",
        "print(musician)"
      ],
      "execution_count": null,
      "outputs": [
        {
          "output_type": "stream",
          "text": [
            "John Lee Hooker\n"
          ],
          "name": "stdout"
        }
      ]
    },
    {
      "cell_type": "code",
      "metadata": {
        "id": "Q8iLkOOOvaQp",
        "colab": {
          "base_uri": "https://localhost:8080/"
        },
        "outputId": "80c8d59b-9bff-4a30-c9c7-9ed52a6471ff"
      },
      "source": [
        "def get_formatted_name(first_name, last_name, middle_name=''):\n",
        "  if middle_name:\n",
        "    full_name = f\"{first_name} {middle_name} {last_name}\"\n",
        "  else:\n",
        "    full_name = f\"{first_name} {last_name}\"\n",
        "\n",
        "musician = get_formatted_name('jimi', 'hendrix')\n",
        "print(musician)\n",
        "\n",
        "musician = get_formatted_name('john', 'hooker', 'lee')\n",
        "print(musician)"
      ],
      "execution_count": null,
      "outputs": [
        {
          "output_type": "stream",
          "text": [
            "None\n",
            "None\n"
          ],
          "name": "stdout"
        }
      ]
    },
    {
      "cell_type": "code",
      "metadata": {
        "id": "lXRd4fTpwsKo",
        "colab": {
          "base_uri": "https://localhost:8080/"
        },
        "outputId": "53946815-63b2-4df5-f2b1-f482d7a9433b"
      },
      "source": [
        "#Returning a Dictionary\n",
        "def build_person(first_name, last_name):\n",
        "  \"\"\"Return a dictionary of information about a person.\"\"\"\n",
        "  person = {'first': first_name, 'last': last_name}\n",
        "  return person\n",
        "\n",
        "musician = build_person('jimi', 'hendrix')\n",
        "print(musician)"
      ],
      "execution_count": null,
      "outputs": [
        {
          "output_type": "stream",
          "text": [
            "{'first': 'jimi', 'last': 'hendrix'}\n"
          ],
          "name": "stdout"
        }
      ]
    },
    {
      "cell_type": "code",
      "metadata": {
        "id": "Iq4MloLqxJvE",
        "colab": {
          "base_uri": "https://localhost:8080/"
        },
        "outputId": "41c48b30-5957-4874-85a4-de10d8b8fd19"
      },
      "source": [
        "#PASSING A LIST\n",
        "def greet_users(names):\n",
        "  \"\"\"Print a simple greeting to each user in the list.\"\"\"\n",
        "  for name in names:\n",
        "    msg = f\"Hello, {name.title()}!\"\n",
        "    print(msg)\n",
        "\n",
        "usernames = ['hannah', 'ty', 'margot']\n",
        "greet_users(usernames)"
      ],
      "execution_count": null,
      "outputs": [
        {
          "output_type": "stream",
          "text": [
            "Hello, Hannah!\n",
            "Hello, Ty!\n",
            "Hello, Margot!\n"
          ],
          "name": "stdout"
        }
      ]
    },
    {
      "cell_type": "code",
      "metadata": {
        "id": "wEY0Wkc2jlkz",
        "colab": {
          "base_uri": "https://localhost:8080/"
        },
        "outputId": "9e0e3ac3-60bd-4251-fb2b-04b266b85499"
      },
      "source": [
        "#Modifying a List in a Function\n",
        "# Start with some designs that need to be printed.\n",
        "unprinted_designs = ['phone case', 'robot pendant', 'dodecahedron']\n",
        "completed_models = []\n",
        "\n",
        "# Simulate printing each design, until none are left.\n",
        "#  Move each design to completed_models after printing.\n",
        "while unprinted_designs:\n",
        "  current_design = unprinted_designs.pop()\n",
        "  print(f\"Printing model: {current_design}\")\n",
        "  completed_models.append(current_design)\n",
        "\n",
        "# Display all completed models.\n",
        "print(\"\\nThe following models have been printed:\")\n",
        "for completed_model in completed_models:\n",
        "  print(completed_model)"
      ],
      "execution_count": null,
      "outputs": [
        {
          "output_type": "stream",
          "text": [
            "Printing model: dodecahedron\n",
            "Printing model: robot pendant\n",
            "Printing model: phone case\n",
            "\n",
            "The following models have been printed:\n",
            "dodecahedron\n",
            "robot pendant\n",
            "phone case\n"
          ],
          "name": "stdout"
        }
      ]
    },
    {
      "cell_type": "code",
      "metadata": {
        "id": "Tv6MYFtukhiq"
      },
      "source": [
        "def print_models(unprinted_designs, completed_models):\n",
        "       \"\"\"\n",
        "       Simulate printing each design, until none are left.\n",
        "       Move each design to completed_models after printing.\n",
        "       \"\"\"\n",
        "       while unprinted_designs:\n",
        "           current_design = unprinted_designs.pop()\n",
        "           print(f\"Printing model: {current_design}\")\n",
        "           completed_models.append(current_design)\n",
        "\n",
        "def show_completed_models(completed_models):\n",
        "       \"\"\"Show all the models that were printed.\"\"\"\n",
        "       print(\"\\nThe following models have been printed:\")\n",
        "       for completed_model in completed_models:\n",
        "           print(completed_model)\n",
        "\n",
        "unprinted_designs = ['phone case', 'robot pendant', 'dodecahedron']\n",
        "completed_models = []"
      ],
      "execution_count": null,
      "outputs": []
    },
    {
      "cell_type": "code",
      "metadata": {
        "id": "4MCpp_DbmFNx",
        "colab": {
          "base_uri": "https://localhost:8080/"
        },
        "outputId": "cbc87b5d-645c-4b6e-c085-bf96dde9aaac"
      },
      "source": [
        "unprinted_designs = ['phone case', 'robot pendant', 'dodecahedron']\n",
        "completed_models = []\n",
        "\n",
        "print_models(unprinted_designs, completed_models)\n",
        "show_completed_models(completed_models)"
      ],
      "execution_count": null,
      "outputs": [
        {
          "output_type": "stream",
          "text": [
            "Printing model: dodecahedron\n",
            "Printing model: robot pendant\n",
            "Printing model: phone case\n",
            "\n",
            "The following models have been printed:\n",
            "dodecahedron\n",
            "robot pendant\n",
            "phone case\n"
          ],
          "name": "stdout"
        }
      ]
    },
    {
      "cell_type": "code",
      "metadata": {
        "id": "7jwyiB_tnRW8",
        "colab": {
          "base_uri": "https://localhost:8080/"
        },
        "outputId": "90968b73-7f6b-4d36-d12c-8971601eb1ad"
      },
      "source": [
        "#PASSING AN ARBITRARY NUMBER OF ARGUMENTS\n",
        "def make_pizza(*toppings):\n",
        "    \"\"\"Print the list of toppings that have been requested.\"\"\"\n",
        "    print(toppings)\n",
        "\n",
        "make_pizza('pepperoni')\n",
        "make_pizza('mushrooms', 'green peppers', 'extra cheese')"
      ],
      "execution_count": null,
      "outputs": [
        {
          "output_type": "stream",
          "text": [
            "('pepperoni',)\n",
            "('mushrooms', 'green peppers', 'extra cheese')\n"
          ],
          "name": "stdout"
        }
      ]
    },
    {
      "cell_type": "code",
      "metadata": {
        "id": "nzTWyBn4n_hC",
        "colab": {
          "base_uri": "https://localhost:8080/"
        },
        "outputId": "169d9491-3a59-471c-80e3-024935e27d1b"
      },
      "source": [
        "#Mixing Positional and Arbitrary Arguments\n",
        "def make_pizza(size, *toppings):\n",
        "  \"\"\"Summarize the pizza we are about to make.\"\"\"\n",
        "  print(f\"\\nMaking a {size}-inch pizza with the following toppings:\")\n",
        "  for topping in toppings:\n",
        "    print(f\"- {topping}\")\n",
        "\n",
        "make_pizza(16, 'pepperoni')\n",
        "make_pizza(12, 'mushrooms', 'green peppers', 'extra cheese')"
      ],
      "execution_count": null,
      "outputs": [
        {
          "output_type": "stream",
          "text": [
            "\n",
            "Making a 16-inch pizza with the following toppings:\n",
            "- pepperoni\n",
            "\n",
            "Making a 12-inch pizza with the following toppings:\n",
            "- mushrooms\n",
            "- green peppers\n",
            "- extra cheese\n"
          ],
          "name": "stdout"
        }
      ]
    },
    {
      "cell_type": "code",
      "metadata": {
        "id": "QpBy_WxopKwQ"
      },
      "source": [
        "#Using Arbitrary Keyword Arguments\n",
        "def build_profile(first, last, **user_info):\n",
        "  \"\"\"Build a dictionary containing everything we know about a user.\"\"\"\n",
        "  user_info['first_name'] = first\n",
        "  user_info['last_name'] = last\n",
        "  return user_info\n",
        "\n",
        "  user_profile = build_profile('albert', 'einstein',\n",
        "                                location='princeton',\n",
        "                                field='physics')\n",
        "  print(user_profile)"
      ],
      "execution_count": null,
      "outputs": []
    },
    {
      "cell_type": "code",
      "metadata": {
        "id": "x3rIyzqerwMu"
      },
      "source": [
        "#STORING YOUR FUNCTIONS IN MODULES\n",
        "#Importing an Entire Module\n",
        "\n",
        "def make_pizza(size, *toppings):\n",
        "    \"\"\"Summarize the pizza we are about to make.\"\"\"\n",
        "    print(f\"\\nMaking a {size}-inch pizza with the following toppings:\")\n",
        "    for topping in toppings:\n",
        "        print(f\"- {topping}\")"
      ],
      "execution_count": null,
      "outputs": []
    },
    {
      "cell_type": "code",
      "metadata": {
        "id": "WwQTWgeKtiOe"
      },
      "source": [
        "#CLASSES"
      ],
      "execution_count": null,
      "outputs": []
    },
    {
      "cell_type": "code",
      "metadata": {
        "id": "T2NBrrC3tkHn"
      },
      "source": [
        "#CREATING AND USING A CLASS\n",
        "class Dog:\n",
        "  \"\"\"A simple attempt to model a dog.\"\"\"\n",
        "  def __init__(self, name, age):\n",
        "    \"\"\"Initialize name and age attributes.\"\"\"\n",
        "    self.name = name\n",
        "    self.age = age\n",
        "\n",
        "  def sit(self):\n",
        "    \"\"\"Simulate a dog sitting in response to a command.\"\"\"\n",
        "    print(f\"{self.name} is now sitting.\")\n",
        "\n",
        "  def roll_over(self):\n",
        "    \"\"\"Simulate rolling over in response to a command.\"\"\"\n",
        "    print(f\"{self.name} rolled over!\")"
      ],
      "execution_count": null,
      "outputs": []
    },
    {
      "cell_type": "code",
      "metadata": {
        "id": "H084qxgew1CP",
        "colab": {
          "base_uri": "https://localhost:8080/"
        },
        "outputId": "ce7a00e5-5fbc-418c-e09a-f1546f7085fc"
      },
      "source": [
        "#The __init__() Method\n",
        "#Making an Instance from a Class\n",
        "#Calling Methods\n",
        "\n",
        "#Creating Multiple Instances\n",
        "my_dog = Dog('Willie', 6)\n",
        "your_dog = Dog('Lucy', 3)\n",
        "\n",
        "print(f\"My dog's name is {my_dog.name}.\")\n",
        "print(f\"My dog is {my_dog.age} years old.\")\n",
        "my_dog.sit()\n",
        "\n",
        "print(f\"\\nYour dog's name is {your_dog.name}.\")\n",
        "print(f\"Your dog is {your_dog.age} years old.\")\n",
        "your_dog.sit()"
      ],
      "execution_count": null,
      "outputs": [
        {
          "output_type": "stream",
          "text": [
            "My dog's name is Willie.\n",
            "My dog is 6 years old.\n",
            "Willie is now sitting.\n",
            "\n",
            "Your dog's name is Lucy.\n",
            "Your dog is 3 years old.\n",
            "Lucy is now sitting.\n"
          ],
          "name": "stdout"
        }
      ]
    },
    {
      "cell_type": "code",
      "metadata": {
        "id": "Wx-PQWzW0LQM",
        "colab": {
          "base_uri": "https://localhost:8080/"
        },
        "outputId": "da80aeb3-5322-4dce-c41a-1920c9728afd"
      },
      "source": [
        "#WORKING WITH CLASSES AND INSTANCES\n",
        "class Car:\n",
        "  \"\"\"A simple attempt to represent a car.\"\"\"\n",
        "\n",
        "  def __init__(self, make, model, year):\n",
        "    \"\"\"Initialize attributes to describe a car.\"\"\"\n",
        "    self.make = make\n",
        "    self.model = model\n",
        "    self.year = year\n",
        "\n",
        "  def get_descriptive_name(self):\n",
        "    \"\"\"Return a neatly formatted descriptive name.\"\"\"\n",
        "    long_name = f\"{self.year} {self.make} {self.model}\"\n",
        "    return long_name.title()\n",
        "\n",
        "my_new_car = Car('audi', 'a4', 2019)\n",
        "print(my_new_car.get_descriptive_name())"
      ],
      "execution_count": null,
      "outputs": [
        {
          "output_type": "stream",
          "text": [
            "2019 Audi A4\n"
          ],
          "name": "stdout"
        }
      ]
    },
    {
      "cell_type": "code",
      "metadata": {
        "id": "gz6Uu09w1jCA",
        "colab": {
          "base_uri": "https://localhost:8080/"
        },
        "outputId": "392e85f9-5c75-4d65-9db5-f26ae37a1bb8"
      },
      "source": [
        "#THE PYTHON STANDARD LIBRARY\n",
        "\n",
        "from random import randint\n",
        "randint(1, 6)"
      ],
      "execution_count": null,
      "outputs": [
        {
          "output_type": "execute_result",
          "data": {
            "text/plain": [
              "1"
            ]
          },
          "metadata": {
            "tags": []
          },
          "execution_count": 2
        }
      ]
    },
    {
      "cell_type": "code",
      "metadata": {
        "id": "WvkHyn4dorsh",
        "colab": {
          "base_uri": "https://localhost:8080/",
          "height": 34
        },
        "outputId": "10a97f18-8126-4250-bf7e-71912611221d"
      },
      "source": [
        "from random import choice\n",
        "\n",
        "players = ['charles', 'martina', 'michael', 'florence', 'eli']\n",
        "first_up = choice(players)\n",
        "first_up"
      ],
      "execution_count": null,
      "outputs": [
        {
          "output_type": "execute_result",
          "data": {
            "application/vnd.google.colaboratory.intrinsic+json": {
              "type": "string"
            },
            "text/plain": [
              "'florence'"
            ]
          },
          "metadata": {
            "tags": []
          },
          "execution_count": 3
        }
      ]
    },
    {
      "cell_type": "code",
      "metadata": {
        "id": "IRFQ4FoAo9Rs"
      },
      "source": [
        "#STYLING CLASSES\n",
        "A few styling issues related to classes are worth clarifying, especially as your programs become more complicated.Class names should be written in CamelCase. To do this, capitalize the first letter of each word in the name, and don’t use underscores. Instance and module names should be written in lowercase with underscores between words."
      ],
      "execution_count": null,
      "outputs": []
    },
    {
      "cell_type": "code",
      "metadata": {
        "id": "vWMfp6YurF18"
      },
      "source": [
        "#FILES AND EXCEPTIONS\n",
        "with open('pi_digits.txt') as file_object:\n",
        "    contents = file_object.read()\n",
        "print(contents)"
      ],
      "execution_count": null,
      "outputs": []
    },
    {
      "cell_type": "code",
      "metadata": {
        "id": "q80x2V0brZ93"
      },
      "source": [
        "with open('pi_digits.txt') as file_object:\n",
        "    contents = file_object.read()\n",
        "\n",
        "print(contents.rstrip())"
      ],
      "execution_count": null,
      "outputs": []
    },
    {
      "cell_type": "code",
      "metadata": {
        "id": "MKJ4hOhKsHEe"
      },
      "source": [
        "#File Paths\n",
        "file_path = '/home/ehmatthes/other_files/text_files/filename.txt'\n",
        "with open(file_path) as file_object:"
      ],
      "execution_count": null,
      "outputs": []
    },
    {
      "cell_type": "code",
      "metadata": {
        "id": "yQeknv0msjdC"
      },
      "source": [
        "#Reading Line by Line\n",
        "filename = 'pi_digits.txt'\n",
        "\n",
        "with open(filename) as file_object:\n",
        "  for line in file_object:\n",
        "    print(line)"
      ],
      "execution_count": null,
      "outputs": []
    },
    {
      "cell_type": "code",
      "metadata": {
        "id": "hvel-wOQtSsw"
      },
      "source": [
        "filename = 'pi_digits.txt'\n",
        "\n",
        "with open(filename) as file_object:\n",
        "    for line in file_object:\n",
        "        print(line.rstrip())"
      ],
      "execution_count": null,
      "outputs": []
    },
    {
      "cell_type": "code",
      "metadata": {
        "id": "QgqQ8ywxuMr0"
      },
      "source": [
        "#Making a List of Lines from a File\n",
        "filename = 'pi_digits.txt'\n",
        "\n",
        "with open(filename) as file_object:\n",
        "  lines = file_object.readlines()\n",
        "\n",
        "for line in lines:\n",
        "  print(line.rstrip())"
      ],
      "execution_count": null,
      "outputs": []
    },
    {
      "cell_type": "code",
      "metadata": {
        "id": "PHok_M8jvgx6"
      },
      "source": [
        "#Working with a File’s Contents\n",
        "filename = 'pi_digits.txt'\n",
        "\n",
        "with open(filename) as file_object:\n",
        "  lines = file_object.readlines()\n",
        "\n",
        "pi_string = ''\n",
        "for line in lines:\n",
        "  pi_string += line.rstrip()\n",
        "\n",
        "print(pi_string)\n",
        "print(len(pi_string))"
      ],
      "execution_count": null,
      "outputs": []
    },
    {
      "cell_type": "code",
      "metadata": {
        "id": "mrjMt2FEv8QM"
      },
      "source": [
        "#Large Files: One Million Digits\n",
        "filename = 'pi_million_digits.txt'\n",
        "\n",
        "with open(filename) as file_object:\n",
        "    lines = file_object.readlines()\n",
        "pi_string = ''\n",
        "for line in lines:\n",
        "    pi_string += line.strip()\n",
        "\n",
        "print(f\"{pi_string[:52]}...\")\n",
        "print(len(pi_string))"
      ],
      "execution_count": null,
      "outputs": []
    },
    {
      "cell_type": "code",
      "metadata": {
        "id": "7jGWW_Mp_Y06"
      },
      "source": [
        "#Writing to an Empty File\n",
        "filename = 'programming.txt'\n",
        "with open(filename, 'w') as file_object:\n",
        "  file_object.write(\"I love programming.\")"
      ],
      "execution_count": null,
      "outputs": []
    },
    {
      "cell_type": "code",
      "metadata": {
        "id": "g29OczY0AHac"
      },
      "source": [
        "#Writing Multiple Lines\n",
        "filename = 'programming.txt'\n",
        "\n",
        "with open(filename, 'w') as file_object:\n",
        "    file_object.write(\"I love programming.\")\n",
        "    file_object.write(\"I love creating new games.\")"
      ],
      "execution_count": null,
      "outputs": []
    },
    {
      "cell_type": "code",
      "metadata": {
        "id": "URUk0CZwFBNi"
      },
      "source": [
        "#Appending to a File\n",
        "filename = 'programming.txt'\n",
        "with open(filename, 'a') as file_object:\n",
        "  file_object.write(\"I also love finding meaning in large datasets.\\n\")\n",
        "  file_object.write(\"I love creating apps that can run in a browser.\\n\")"
      ],
      "execution_count": null,
      "outputs": []
    },
    {
      "cell_type": "code",
      "metadata": {
        "id": "WT5_rAPHZmJS",
        "colab": {
          "base_uri": "https://localhost:8080/",
          "height": 183
        },
        "outputId": "6baa04c2-49ea-48d0-e58d-4219e0afb440"
      },
      "source": [
        "#Handling the ZeroDivisionError Exception\n",
        "print(5/0)"
      ],
      "execution_count": null,
      "outputs": [
        {
          "output_type": "error",
          "ename": "ZeroDivisionError",
          "evalue": "ignored",
          "traceback": [
            "\u001b[0;31m---------------------------------------------------------------------------\u001b[0m",
            "\u001b[0;31mZeroDivisionError\u001b[0m                         Traceback (most recent call last)",
            "\u001b[0;32m<ipython-input-5-dced66137cc7>\u001b[0m in \u001b[0;36m<module>\u001b[0;34m()\u001b[0m\n\u001b[1;32m      1\u001b[0m \u001b[0;31m#Handling the ZeroDivisionError Exception\u001b[0m\u001b[0;34m\u001b[0m\u001b[0;34m\u001b[0m\u001b[0;34m\u001b[0m\u001b[0m\n\u001b[0;32m----> 2\u001b[0;31m \u001b[0mprint\u001b[0m\u001b[0;34m(\u001b[0m\u001b[0;36m5\u001b[0m\u001b[0;34m/\u001b[0m\u001b[0;36m0\u001b[0m\u001b[0;34m)\u001b[0m\u001b[0;34m\u001b[0m\u001b[0;34m\u001b[0m\u001b[0m\n\u001b[0m",
            "\u001b[0;31mZeroDivisionError\u001b[0m: division by zero"
          ]
        }
      ]
    },
    {
      "cell_type": "code",
      "metadata": {
        "id": "Utarf2g2Zv3b",
        "colab": {
          "base_uri": "https://localhost:8080/"
        },
        "outputId": "cfb9b828-5cd5-4dc3-fbca-7c9f295a1a34"
      },
      "source": [
        "#Using try-except Blocks\n",
        "try:\n",
        "  print(5/0)\n",
        "except ZeroDivisionError:\n",
        "  print(\"You can't divide by zero!\")"
      ],
      "execution_count": null,
      "outputs": [
        {
          "output_type": "stream",
          "text": [
            "You can't divide by zero!\n"
          ],
          "name": "stdout"
        }
      ]
    },
    {
      "cell_type": "code",
      "metadata": {
        "id": "Av1kXdndaHKF",
        "colab": {
          "base_uri": "https://localhost:8080/"
        },
        "outputId": "5877dbfc-bc80-4baa-c1d6-0eba156ec90b"
      },
      "source": [
        "#Using Exceptions to Prevent Crashes\n",
        "print(\"Give me two numbers, and I'll divide them.\")\n",
        "print(\"Enter 'q' to quit.\")\n",
        "\n",
        "while True:\n",
        "  first_number = input(\"\\nFirst number: \")\n",
        "  if first_number == 'q':\n",
        "    break\n",
        "\n",
        "  second_number = input(\"Second number: \")\n",
        "  if second_number == 'q':\n",
        "    break\n",
        "\n",
        "  answer = int(first_number) / int(second_number)\n",
        "  print(answer)"
      ],
      "execution_count": null,
      "outputs": [
        {
          "output_type": "stream",
          "text": [
            "Give me two numbers, and I'll divide them.\n",
            "Enter 'q' to quit.\n",
            "2.5\n",
            "0.4235294117647059\n"
          ],
          "name": "stdout"
        }
      ]
    },
    {
      "cell_type": "code",
      "metadata": {
        "id": "E6AI3U_haq-3"
      },
      "source": [
        "#The else Block\n",
        "#Handling the FileNotFoundError Exception\n",
        "filename = 'alice.txt'\n",
        "\n",
        "with open(filename, encoding='utf-8') as f:\n",
        "  contents = f.read()"
      ],
      "execution_count": null,
      "outputs": []
    },
    {
      "cell_type": "code",
      "metadata": {
        "id": "JkR53TodbPz1"
      },
      "source": [
        "#Analyzing Text\n",
        "title = \"Alice in Wonderland\"\n",
        "\n",
        "title.split()"
      ],
      "execution_count": null,
      "outputs": []
    },
    {
      "cell_type": "code",
      "metadata": {
        "id": "hcaoEMkCb5KX"
      },
      "source": [
        "#Working with Multiple Files\n",
        "#Failing Silently\n",
        "def count_words(filename):\n",
        "  \"\"\"Count the approximate number of words in a file.\"\"\"\n",
        "  try:\n",
        "           with open(filename, encoding='utf-8') as f:\n",
        "               contents = f.read()\n",
        "       except FileNotFoundError:\n",
        "           print(f\"Sorry, the file {filename} does not exist.\")\n",
        "       else:\n",
        "           words = contents.split()\n",
        "           num_words = len(words)\n",
        "           print(f\"The file {filename} has about {num_words} words.\")\n",
        "\n",
        "filename = 'alice.txt'\n",
        "count_words(filename)"
      ],
      "execution_count": null,
      "outputs": []
    },
    {
      "cell_type": "code",
      "metadata": {
        "id": "J7LRvb8_lRE_"
      },
      "source": [
        "#STORING DATA\n",
        "#Using json.dump() and json.load()\n",
        "import json\n",
        "\n",
        "numbers = [2, 3, 5, 7, 11, 13]\n",
        "filename = 'numbers.json'\n",
        "with open(filename, 'w') as f:\n",
        "  json.dump(numbers, f)"
      ],
      "execution_count": null,
      "outputs": []
    },
    {
      "cell_type": "code",
      "metadata": {
        "id": "xzAByiqzn6po"
      },
      "source": [
        "import json\n",
        "\n",
        "filename = 'numbers.json'\n",
        "with open(filename) as f:\n",
        "  numbers = json.load(f)\n",
        "\n",
        "print(numbers)"
      ],
      "execution_count": null,
      "outputs": []
    },
    {
      "cell_type": "code",
      "metadata": {
        "id": "aARJXIWap9Rj"
      },
      "source": [
        "#Saving and Reading User-Generated Data\n",
        "import json\n",
        "\n",
        "username = input(\"What is your name? \")\n",
        "\n",
        "filename = 'username.json'\n",
        "with open(filename, 'w') as f:\n",
        "  json.dump(username, f)\n",
        "  print(f\"We'll remember you when you come back, {username}!\")"
      ],
      "execution_count": null,
      "outputs": []
    },
    {
      "cell_type": "code",
      "metadata": {
        "id": "hKCJFVj5qvMJ"
      },
      "source": [
        "import json\n",
        "\n",
        "filename = 'username.json'\n",
        "with open(filename) as f:\n",
        "  username = json.load(f)\n",
        "  print(f\"Welcome back, {username}!\")"
      ],
      "execution_count": null,
      "outputs": []
    },
    {
      "cell_type": "code",
      "metadata": {
        "id": "8bmRtlxarht2"
      },
      "source": [
        "#Refactoring\n",
        "import json   \n",
        "\n",
        "def greet_user():\n",
        "  \"\"\"Greet the user by name.\"\"\"\n",
        "  filename = 'username.json'\n",
        "  try:\n",
        "    with open(filename) as f:\n",
        "      username = json.load(f)\n",
        "  except FileNotFoundError:\n",
        "    username = input(\"What is your name? \")\n",
        "    with open(filename, 'w') as f:\n",
        "      json.dump(username, f)\n",
        "      print(f\"We'll remember you when you come back, {username}!\")\n",
        "  else:\n",
        "    print(f\"Welcome back, {username}!\")\n",
        "\n",
        "greet_user()"
      ],
      "execution_count": null,
      "outputs": []
    },
    {
      "cell_type": "code",
      "metadata": {
        "id": "OFFw-GZAu-NW"
      },
      "source": [
        "#TESTING YOUR CODE\n",
        "#Testing a Function\n",
        "def get_formatted_name(first, last):\n",
        "  \"\"\"Generate a neatly formatted full name.\"\"\"\n",
        "  full_name = f\"{first} {last}\"\n",
        "  return full_name.title()"
      ],
      "execution_count": null,
      "outputs": []
    },
    {
      "cell_type": "code",
      "metadata": {
        "id": "f1ah6ENqF6bR"
      },
      "source": [
        "#Unit Tests and Test Cases\n",
        "#A Passing Test\n",
        "import unittest\n",
        "from name_function import get_formatted_name\n",
        "\n",
        "class NamesTestCase(unittest.TestCase):\n",
        "  \"\"\"Tests for 'name_function.py'.\"\"\"\n",
        "  def test_first_last_name(self):\n",
        "    \"\"\"Do names like 'Janis Joplin' work?\"\"\"\n",
        "    formatted_name = get_formatted_name('janis', 'joplin')\n",
        "    self.assertEqual(formatted_name, 'Janis Joplin')\n",
        "\n",
        "if __name__ == '__main__':\n",
        "  unittest.main()"
      ],
      "execution_count": null,
      "outputs": []
    },
    {
      "cell_type": "code",
      "metadata": {
        "id": "8VR1orozIVoz"
      },
      "source": [
        "import unittest\n",
        "\n",
        "from name_function import get_formatted_name\n",
        "\n",
        "class NamesTestCase(unittest.TestCase):\n",
        "  \"\"\"Tests for 'name_function.py'.\"\"\"\n",
        "\n",
        "  def test_first_last_name(self):\n",
        "    \"\"\"Do names like 'Janis Joplin' work?\"\"\"\n",
        "    formatted_name = get_formatted_name('janis', 'joplin')\n",
        "    self.assertEqual(formatted_name, 'Janis Joplin')\n",
        "\n",
        "if __name__ == '__main__':\n",
        "  unittest.main()"
      ],
      "execution_count": null,
      "outputs": []
    },
    {
      "cell_type": "code",
      "metadata": {
        "id": "dhA6wa8ZJuxD"
      },
      "source": [
        "#A Failing Test\n",
        "def get_formatted_name(first, middle, last):\n",
        "    \"\"\"Generate a neatly formatted full name.\"\"\"\n",
        "    full_name = f\"{first} {middle} {last}\"\n",
        "    return full_name.title()"
      ],
      "execution_count": null,
      "outputs": []
    },
    {
      "cell_type": "code",
      "metadata": {
        "id": "-JghdtA7LIKv"
      },
      "source": [
        "#Responding to a Failed Test\n",
        "def get_formatted_name(first, last, middle=''):\n",
        "  \"\"\"Generate a neatly formatted full name.\"\"\"\n",
        "  if middle:\n",
        "    full_name = f\"{first} {middle} {last}\"\n",
        "  else:\n",
        "    full_name = f\"{first} {last}\"\n",
        "  return full_name.title()"
      ],
      "execution_count": null,
      "outputs": []
    },
    {
      "cell_type": "code",
      "metadata": {
        "id": "WDxQ0xfvMTv0"
      },
      "source": [
        "#TESTING A CLASS\n",
        "#A Variety of Assert Methods\n",
        "\n",
        "class AnonymousSurvey:\n",
        "  \"\"\"Collect anonymous answers to a survey question.\"\"\"\n",
        "  \n",
        "  def __init__(self, question):\n",
        "    \"\"\"Store a question, and prepare to store responses.\"\"\"\n",
        "    self.question = question\n",
        "    self.responses = []\n",
        "\n",
        "  def show_question(self):\n",
        "    \"\"\"Show the survey question.\"\"\"\n",
        "    print(self.question)\n",
        "\n",
        "  def store_response(self, new_response):\n",
        "    \"\"\"Store a single response to the survey.\"\"\"\n",
        "    self.responses.append(new_response)\n",
        "\n",
        "  def show_results(self):\n",
        "    \"\"\"Show all the responses that have been given.\"\"\"\n",
        "    print(\"Survey results:\")\n",
        "    for response in self.responses:\n",
        "      print(f\"- {response}\")"
      ],
      "execution_count": null,
      "outputs": []
    },
    {
      "cell_type": "code",
      "metadata": {
        "id": "2ieSxXF8rY5z"
      },
      "source": [
        "def get_formatted_name(first, middle, last):\n",
        "  \"\"\"Generate a neatly formatted full name.\"\"\"\n",
        "  full_name = f\"{first} {middle} {last}\"\n",
        "  return full_name.title()"
      ],
      "execution_count": null,
      "outputs": []
    },
    {
      "cell_type": "code",
      "metadata": {
        "id": "6pkCvBv-5I7M"
      },
      "source": [
        "#Responding to a Failed Test\n",
        "def get_formatted_name(first, last, middle=''):\n",
        "  \"\"\"Generate a neatly formatted full name.\"\"\"\n",
        "  if middle:\n",
        "    full_name = f\"{first} {middle} {last}\"\n",
        "  else:\n",
        "    full_name = f\"{first} {last}\"\n",
        "  return full_name.title()"
      ],
      "execution_count": null,
      "outputs": []
    },
    {
      "cell_type": "code",
      "metadata": {
        "id": "l41t0CmdmAU1"
      },
      "source": [
        "#TESTING A CLASS\n",
        "#A Class to Test\n",
        "class AnonymousSurvey:\n",
        "  \"\"\"Collect anonymous answers to a survey question.\"\"\"\n",
        "  def __init__(self, question):\n",
        "    \"\"\"Store a question, and prepare to store responses.\"\"\"\n",
        "    self.question = question\n",
        "    self.responses = []\n",
        "\n",
        "  def show_question(self):\n",
        "    \"\"\"Show the survey question.\"\"\"\n",
        "    print(self.question)\n",
        "\n",
        "  def store_response(self, new_response):\n",
        "    \"\"\"Store a single response to the survey.\"\"\"\n",
        "    self.responses.append(new_response)\n",
        "\n",
        "  def show_results(self):\n",
        "    \"\"\"Show all the responses that have been given.\"\"\"\n",
        "    print(\"Survey results:\")\n",
        "    for response in self.responses:\n",
        "      print(f\"- {response}\")"
      ],
      "execution_count": null,
      "outputs": []
    },
    {
      "cell_type": "code",
      "metadata": {
        "id": "YjkGOztpn0XO"
      },
      "source": [
        "import unittest\n",
        "from survey import AnonymousSurvey\n",
        "\n",
        "class TestAnonymousSurvey(unittest.TestCase):\n",
        "  \"\"\"Tests for the class AnonymousSurvey\"\"\"\n",
        "  def test_store_single_response(self):\n",
        "    \"\"\"Test that a single response is stored properly.\"\"\"\n",
        "    question = \"What language did you first learn to speak?\"\n",
        "    my_survey = AnonymousSurvey(question)\n",
        "    my_survey.store_response('English')\n",
        "    self.assertIn('English', my_survey.responses)\n",
        "\n",
        "if __name__ == '__main__':\n",
        "  unittest.main()"
      ],
      "execution_count": null,
      "outputs": []
    },
    {
      "cell_type": "code",
      "metadata": {
        "id": "94OfEE_U5lVw"
      },
      "source": [
        "#TESTING A FUNCTION\n",
        "def get_formatted_name(first, last):\n",
        "  \"\"\"Generate a neatly formatted full name.\"\"\"\n",
        "  full_name = f\"{first} {last}\"\n",
        "  return full_name.title()"
      ],
      "execution_count": null,
      "outputs": []
    },
    {
      "cell_type": "code",
      "metadata": {
        "id": "BAqw3T7GF68r"
      },
      "source": [
        "from name_function import get_formatted_name\n",
        "\n",
        "print(\"Enter 'q' at any time to quit.\")\n",
        "while True:\n",
        "  first = input(\"\\nPlease give me a first name: \")\n",
        "  if first == 'q':\n",
        "    break\n",
        "  last = input(\"Please give me a last name: \")\n",
        "  if last == 'q':\n",
        "    break\n",
        "  formatted_name = get_formatted_name(first, last)\n",
        "  print(f\"\\tNeatly formatted name: {formatted_name}.\")"
      ],
      "execution_count": null,
      "outputs": []
    },
    {
      "cell_type": "code",
      "metadata": {
        "id": "xI6VFcz2LvIA"
      },
      "source": [
        "#Adding the Play Button\n",
        "def __init__(self, ai_game):\n",
        "  \"\"\"Initialize statistics.\"\"\"\n",
        "  self.settings = ai_game.settings\n",
        "  self.reset_stats()\n",
        "\n",
        "  # Start game in an inactive state.\n",
        "  self.game_active = False"
      ],
      "execution_count": null,
      "outputs": []
    },
    {
      "cell_type": "code",
      "metadata": {
        "id": "xqccXcEhPxxc"
      },
      "source": [
        "#Creating a Button Class\n",
        "import pygame.font\n",
        "\n",
        "class Button:\n",
        "  def __init__(self, ai_game, msg):\n",
        "    \"\"\"Initialize button attributes.\"\"\"\n",
        "    self.screen = ai_game.screen\n",
        "    self.screen_rect = self.screen.get_rect()\n",
        "\n",
        "    # Set the dimensions and properties of the button.\n",
        "    self.width, self.height = 200, 50\n",
        "    self.button_color = (0, 255, 0)\n",
        "    self.text_color = (255, 255, 255)\n",
        "    self.font = pygame.font.SysFont(None, 48)\n",
        "\n",
        "    # Build the button's rect object and center it.\n",
        "    self.rect = pygame.Rect(0, 0, self.width, self.height)\n",
        "    self.rect.center = self.screen_rect.center"
      ],
      "execution_count": null,
      "outputs": []
    },
    {
      "cell_type": "code",
      "metadata": {
        "id": "7zSQQFdjbjar"
      },
      "source": [
        "def draw_button(self):\n",
        "  # Draw blank button and then draw message.\n",
        "  self.screen.fill(self.button_color, self.rect)\n",
        "  self.screen.blit(self.msg_image, self.msg_image_rect)"
      ],
      "execution_count": null,
      "outputs": []
    },
    {
      "cell_type": "code",
      "metadata": {
        "id": "nWvW13rdb3Qi"
      },
      "source": [
        "#Starting the Game\n",
        "def _check_play_button(self, mouse_pos):\n",
        "  \"\"\"Start a new game when the player clicks Play.\"\"\"\n",
        "  if self.play_button.rect.collidepoint(mouse_pos):\n",
        "    self.stats.game_active = True"
      ],
      "execution_count": null,
      "outputs": []
    },
    {
      "cell_type": "code",
      "metadata": {
        "id": "HAmRvsULcZwN"
      },
      "source": [
        "#Resetting the Game\n",
        "def _check_play_button(self, mouse_pos):\n",
        "  \"\"\"Start a new game when the player clicks Play.\"\"\"\n",
        "  if self.play_button.rect.collidepoint(mouse_pos):\n",
        "    # Reset the game statistics.\n",
        "    self.stats.reset_stats()\n",
        "    self.stats.game_active = True\n",
        "\n",
        "    # Get rid of any remaining aliens and bullets.\n",
        "    self.aliens.empty()\n",
        "    self.bullets.empty()\n",
        "\n",
        "    # Create a new fleet and center the ship.\n",
        "    self._create_fleet()\n",
        "    self.ship.center_ship()"
      ],
      "execution_count": null,
      "outputs": []
    },
    {
      "cell_type": "code",
      "metadata": {
        "id": "1YEXOT83c_iq"
      },
      "source": [
        "#Deactivating the Play Button\n",
        "def _check_play_button(self, mouse_pos):\n",
        "  \"\"\"Start a new game when the player clicks Play.\"\"\"\n",
        "  button_clicked = self.play_button.rect.collidepoint(mouse_pos)\n",
        "  if button_clicked and not self.stats.game_active:\n",
        "    # Reset the game statistics.\n",
        "    self.stats.reset_stats()"
      ],
      "execution_count": null,
      "outputs": []
    },
    {
      "cell_type": "code",
      "metadata": {
        "id": "QtnMWknxdVI1"
      },
      "source": [
        "#Hiding the Mouse Cursor\n",
        "def _check_play_button(self, mouse_pos):\n",
        "  \"\"\"Start a new game when the player clicks Play.\"\"\"\n",
        "  button_clicked = self.play_button.rect.collidepoint(mouse_pos)\n",
        "  if button_clicked and not self.stats.game_active:\n",
        "    --snip--\n",
        "\n",
        "    # Hide the mouse cursor.\n",
        "    pygame.mouse.set_visible(False)"
      ],
      "execution_count": null,
      "outputs": []
    },
    {
      "cell_type": "code",
      "metadata": {
        "id": "U55aXt2Idv1J"
      },
      "source": [
        "def _ship_hit(self):\n",
        "  \"\"\"Respond to ship being hit by alien.\"\"\"\n",
        "  if self.stats.ships_left > 0:\n",
        "    --snip--\n",
        "  else:\n",
        "    self.stats.game_active = False\n",
        "    pygame.mouse.set_visible(True)"
      ],
      "execution_count": null,
      "outputs": []
    },
    {
      "cell_type": "code",
      "metadata": {
        "id": "E7ztPRG2eMTY"
      },
      "source": [
        "#Leveling Up\n",
        "#Modifying the Speed Settings\n",
        "\n",
        "def __init__(self):\n",
        "  \"\"\"Initialize the game's static settings.\"\"\"\n",
        "  # Screen settings\n",
        "  self.screen_width = 1200\n",
        "  self.screen_height = 800\n",
        "  self.bg_color = (230, 230, 230)\n",
        "\n",
        "  # Ship settings\n",
        "  self.ship_limit = 3\n",
        "\n",
        "  # Bullet settings\n",
        "  self.bullet_width = 3\n",
        "  self.bullet_height = 15\n",
        "  self.bullet_color = 60, 60, 60\n",
        "  self.bullets_allowed = 3\n",
        "\n",
        "  # Alien settings\n",
        "  self.fleet_drop_speed = 10\n",
        "\n",
        "  # How quickly the game speeds up\n",
        "  self.speedup_scale = 1.1\n",
        "\n",
        "  self.initialize_dynamic_settings()"
      ],
      "execution_count": null,
      "outputs": []
    },
    {
      "cell_type": "markdown",
      "metadata": {
        "id": "ZKlVnbHV6Gne"
      },
      "source": [
        "Starting the Game Project"
      ]
    },
    {
      "cell_type": "code",
      "metadata": {
        "colab": {
          "base_uri": "https://localhost:8080/"
        },
        "id": "4uJ-dbxd6Ikz",
        "outputId": "629a358f-aae6-4e14-99a0-b4af191340ce"
      },
      "source": [
        "pip install --user pygame"
      ],
      "execution_count": null,
      "outputs": [
        {
          "output_type": "stream",
          "text": [
            "Collecting pygame\n",
            "\u001b[?25l  Downloading https://files.pythonhosted.org/packages/4b/9e/c400554dd1d0e562bd4379f35ad5023c68fc120003a58991405850f56f95/pygame-2.0.1-cp37-cp37m-manylinux1_x86_64.whl (11.8MB)\n",
            "\u001b[K     |████████████████████████████████| 11.8MB 5.8MB/s \n",
            "\u001b[?25hInstalling collected packages: pygame\n",
            "Successfully installed pygame-2.0.1\n"
          ],
          "name": "stdout"
        }
      ]
    },
    {
      "cell_type": "markdown",
      "metadata": {
        "id": "lugSsbkOA-GV"
      },
      "source": [
        "# Installing Matplotlib"
      ]
    },
    {
      "cell_type": "code",
      "metadata": {
        "colab": {
          "base_uri": "https://localhost:8080/"
        },
        "id": "Ez4hJwHo6ULv",
        "outputId": "79bda49b-382c-4d88-bb00-a25af51c8023"
      },
      "source": [
        "pip install --user matplotlib"
      ],
      "execution_count": null,
      "outputs": [
        {
          "output_type": "stream",
          "text": [
            "Requirement already satisfied: matplotlib in /usr/local/lib/python3.7/dist-packages (3.2.2)\n",
            "Requirement already satisfied: cycler>=0.10 in /usr/local/lib/python3.7/dist-packages (from matplotlib) (0.10.0)\n",
            "Requirement already satisfied: numpy>=1.11 in /usr/local/lib/python3.7/dist-packages (from matplotlib) (1.19.5)\n",
            "Requirement already satisfied: pyparsing!=2.0.4,!=2.1.2,!=2.1.6,>=2.0.1 in /usr/local/lib/python3.7/dist-packages (from matplotlib) (2.4.7)\n",
            "Requirement already satisfied: kiwisolver>=1.0.1 in /usr/local/lib/python3.7/dist-packages (from matplotlib) (1.3.1)\n",
            "Requirement already satisfied: python-dateutil>=2.1 in /usr/local/lib/python3.7/dist-packages (from matplotlib) (2.8.1)\n",
            "Requirement already satisfied: six in /usr/local/lib/python3.7/dist-packages (from cycler>=0.10->matplotlib) (1.15.0)\n"
          ],
          "name": "stdout"
        }
      ]
    },
    {
      "cell_type": "markdown",
      "metadata": {
        "id": "37tJWYY4A4-K"
      },
      "source": [
        "# Plotting a Simple Line Graph"
      ]
    },
    {
      "cell_type": "code",
      "metadata": {
        "colab": {
          "base_uri": "https://localhost:8080/",
          "height": 265
        },
        "id": "1CM58xtf-_Qa",
        "outputId": "172a7647-5bb4-4d06-ea02-8a57a878d9aa"
      },
      "source": [
        "import matplotlib.pyplot as plt\n",
        "\n",
        "squares = [1, 4, 9, 16, 25]\n",
        "fig, ax = plt.subplots()\n",
        "ax.plot(squares)\n",
        "\n",
        "plt.show()"
      ],
      "execution_count": null,
      "outputs": [
        {
          "output_type": "display_data",
          "data": {
            "image/png": "[encoded data removed]",
            "text/plain": [
              "<Figure size 432x288 with 1 Axes>"
            ]
          },
          "metadata": {
            "tags": [],
            "needs_background": "light"
          }
        }
      ]
    }
  ]
}
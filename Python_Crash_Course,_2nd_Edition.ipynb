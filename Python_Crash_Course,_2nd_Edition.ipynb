{
  "nbformat": 4,
  "nbformat_minor": 0,
  "metadata": {
    "colab": {
      "name": " Python Crash Course, 2nd Edition.ipynb",
      "provenance": [],
      "collapsed_sections": [],
      "authorship_tag": "ABX9TyP5ooke8To8zCw/zffbrYbK",
      "include_colab_link": true
    },
    "kernelspec": {
      "display_name": "Python 3",
      "name": "python3"
    }
  },
  "cells": [
    {
      "cell_type": "markdown",
      "metadata": {
        "id": "view-in-github",
        "colab_type": "text"
      },
      "source": [
        "<a href=\"https://colab.research.google.com/github/pratikshas8080/Python_Crash_Course-2nd_Edition/blob/main/Python_Crash_Course%2C_2nd_Edition.ipynb\" target=\"_parent\"><img src=\"https://colab.research.google.com/assets/colab-badge.svg\" alt=\"Open In Colab\"/></a>"
      ]
    },
    {
      "cell_type": "code",
      "metadata": {
        "id": "vWSkfDgk2R-8",
        "outputId": "78079806-0eea-4c57-93cc-e66cc02b4273",
        "colab": {
          "base_uri": "https://localhost:8080/",
          "height": 34
        }
      },
      "source": [
        "print(\"Hello Python interpreter!\")"
      ],
      "execution_count": null,
      "outputs": [
        {
          "output_type": "stream",
          "text": [
            "Hello Python interpreter!\n"
          ],
          "name": "stdout"
        }
      ]
    },
    {
      "cell_type": "code",
      "metadata": {
        "id": "Ci0QypKF3RXn",
        "outputId": "009c379a-bb7d-44ac-97ba-638fca46a761",
        "colab": {
          "base_uri": "https://localhost:8080/",
          "height": 34
        }
      },
      "source": [
        "message = \"Hello Python world!\"\n",
        "print(message)"
      ],
      "execution_count": null,
      "outputs": [
        {
          "output_type": "stream",
          "text": [
            "Hello Python world!\n"
          ],
          "name": "stdout"
        }
      ]
    },
    {
      "cell_type": "markdown",
      "metadata": {
        "id": "TG4zgjla93Oh"
      },
      "source": [
        "A string is a series of characters. Anything inside quotes is considered a string in Python, and you can use single or double quotes around your strings"
      ]
    },
    {
      "cell_type": "code",
      "metadata": {
        "id": "HtsC_8hf9qjc",
        "outputId": "20484edc-e1dd-4506-bf4c-cf0fc0edcd8c",
        "colab": {
          "base_uri": "https://localhost:8080/",
          "height": 34
        }
      },
      "source": [
        "name = \"ada lovelace\"\n",
        "print(name.title())"
      ],
      "execution_count": null,
      "outputs": [
        {
          "output_type": "stream",
          "text": [
            "Ada Lovelace\n"
          ],
          "name": "stdout"
        }
      ]
    },
    {
      "cell_type": "code",
      "metadata": {
        "id": "qEpXmG4J-A5C",
        "outputId": "d2d6f07c-0a0c-436b-dfdd-f8077c3cdb3a",
        "colab": {
          "base_uri": "https://localhost:8080/",
          "height": 34
        }
      },
      "source": [
        "first_name = \"ada\"\n",
        "last_name = \"lovelace\"\n",
        "full_name = f\"{first_name} {last_name}\"\n",
        "print(full_name)"
      ],
      "execution_count": null,
      "outputs": [
        {
          "output_type": "stream",
          "text": [
            "ada lovelace\n"
          ],
          "name": "stdout"
        }
      ]
    },
    {
      "cell_type": "code",
      "metadata": {
        "id": "L3KXYvzf_r9v",
        "outputId": "92f72180-d122-463a-ede8-5a19c26f2c5d",
        "colab": {
          "base_uri": "https://localhost:8080/",
          "height": 34
        }
      },
      "source": [
        "print(\"Python\")"
      ],
      "execution_count": null,
      "outputs": [
        {
          "output_type": "stream",
          "text": [
            "Python\n"
          ],
          "name": "stdout"
        }
      ]
    },
    {
      "cell_type": "code",
      "metadata": {
        "id": "dXDMoTS5_0-7",
        "outputId": "b9440866-071e-4947-9d9c-94ad5b9768a7",
        "colab": {
          "base_uri": "https://localhost:8080/",
          "height": 34
        }
      },
      "source": [
        " print(\"\\tPython\")"
      ],
      "execution_count": null,
      "outputs": [
        {
          "output_type": "stream",
          "text": [
            "\tPython\n"
          ],
          "name": "stdout"
        }
      ]
    },
    {
      "cell_type": "code",
      "metadata": {
        "id": "vkvW64wxA_-f",
        "outputId": "cfd6379b-6a28-444c-cd2c-8a910556edfb",
        "colab": {
          "base_uri": "https://localhost:8080/",
          "height": 86
        }
      },
      "source": [
        "print(\"Languages:\\nPython\\nC\\nJavaScript\")"
      ],
      "execution_count": null,
      "outputs": [
        {
          "output_type": "stream",
          "text": [
            "Languages:\n",
            "Python\n",
            "C\n",
            "JavaScript\n"
          ],
          "name": "stdout"
        }
      ]
    },
    {
      "cell_type": "code",
      "metadata": {
        "id": "4DPgjtU9BG75"
      },
      "source": [
        "favorite_language = 'python '"
      ],
      "execution_count": null,
      "outputs": []
    },
    {
      "cell_type": "code",
      "metadata": {
        "id": "8CV7DkUzBLpK",
        "outputId": "d15b4180-4174-464e-8169-f186530f029b",
        "colab": {
          "base_uri": "https://localhost:8080/",
          "height": 35
        }
      },
      "source": [
        "favorite_language"
      ],
      "execution_count": null,
      "outputs": [
        {
          "output_type": "execute_result",
          "data": {
            "application/vnd.google.colaboratory.intrinsic+json": {
              "type": "string"
            },
            "text/plain": [
              "'python '"
            ]
          },
          "metadata": {
            "tags": []
          },
          "execution_count": 13
        }
      ]
    },
    {
      "cell_type": "code",
      "metadata": {
        "id": "8hebvPmABQO8",
        "outputId": "e20ea960-4413-4589-a9c1-b9b2a54750e9",
        "colab": {
          "base_uri": "https://localhost:8080/",
          "height": 35
        }
      },
      "source": [
        "favorite_language.rstrip()"
      ],
      "execution_count": null,
      "outputs": [
        {
          "output_type": "execute_result",
          "data": {
            "application/vnd.google.colaboratory.intrinsic+json": {
              "type": "string"
            },
            "text/plain": [
              "'python'"
            ]
          },
          "metadata": {
            "tags": []
          },
          "execution_count": 14
        }
      ]
    },
    {
      "cell_type": "code",
      "metadata": {
        "id": "2N5USxBIBTx9",
        "outputId": "26ea7638-dce9-4e86-f361-4f82a4b8317d",
        "colab": {
          "base_uri": "https://localhost:8080/",
          "height": 35
        }
      },
      "source": [
        "favorite_language"
      ],
      "execution_count": null,
      "outputs": [
        {
          "output_type": "execute_result",
          "data": {
            "application/vnd.google.colaboratory.intrinsic+json": {
              "type": "string"
            },
            "text/plain": [
              "'python '"
            ]
          },
          "metadata": {
            "tags": []
          },
          "execution_count": 15
        }
      ]
    },
    {
      "cell_type": "code",
      "metadata": {
        "id": "2D9J3-uMBXVZ",
        "outputId": "dc87aca9-de99-4e49-e7dd-ec17e8eaac4c",
        "colab": {
          "base_uri": "https://localhost:8080/",
          "height": 35
        }
      },
      "source": [
        "favorite_language=\"python\"\n",
        "favorite_language=favorite_language.rstrip()\n",
        "favorite_language"
      ],
      "execution_count": null,
      "outputs": [
        {
          "output_type": "execute_result",
          "data": {
            "application/vnd.google.colaboratory.intrinsic+json": {
              "type": "string"
            },
            "text/plain": [
              "'python'"
            ]
          },
          "metadata": {
            "tags": []
          },
          "execution_count": 16
        }
      ]
    },
    {
      "cell_type": "code",
      "metadata": {
        "id": "hvhZgviuCrIM",
        "outputId": "5005c766-4776-4a0c-ed65-bc487a210e4b",
        "colab": {
          "base_uri": "https://localhost:8080/",
          "height": 34
        }
      },
      "source": [
        "favorite_language = ' python '\n",
        "favorite_language.rstrip()\n",
        "favorite_language.lstrip()\n",
        "favorite_language.strip()\n",
        "print(favorite_language)"
      ],
      "execution_count": null,
      "outputs": [
        {
          "output_type": "stream",
          "text": [
            " python \n"
          ],
          "name": "stdout"
        }
      ]
    },
    {
      "cell_type": "code",
      "metadata": {
        "id": "hxgelBsjDHg1",
        "outputId": "64083cf4-6334-4867-85cb-e4e98d26d423",
        "colab": {
          "base_uri": "https://localhost:8080/",
          "height": 34
        }
      },
      "source": [
        "message = \"One of Python's strengths is its diverse community.\"\n",
        "print(message)"
      ],
      "execution_count": null,
      "outputs": [
        {
          "output_type": "stream",
          "text": [
            "One of Python's strengths is its diverse community.\n"
          ],
          "name": "stdout"
        }
      ]
    },
    {
      "cell_type": "code",
      "metadata": {
        "id": "SP8TUhjU6gwy",
        "outputId": "8fefe228-1ee4-4a99-8720-6f08642ea47b",
        "colab": {
          "base_uri": "https://localhost:8080/",
          "height": 52
        }
      },
      "source": [
        "name = \"Ada Lovelace\"\n",
        "print(name.upper())\n",
        "print(name.lower())"
      ],
      "execution_count": null,
      "outputs": [
        {
          "output_type": "stream",
          "text": [
            "ADA LOVELACE\n",
            "ada lovelace\n"
          ],
          "name": "stdout"
        }
      ]
    },
    {
      "cell_type": "code",
      "metadata": {
        "id": "P0AOOZdL6tGT",
        "outputId": "1b7cb684-75d7-49c9-d157-ac46f2ed82df",
        "colab": {
          "base_uri": "https://localhost:8080/",
          "height": 34
        }
      },
      "source": [
        "2+3\n",
        "2-3\n",
        "2*3\n",
        "2/3"
      ],
      "execution_count": null,
      "outputs": [
        {
          "output_type": "execute_result",
          "data": {
            "text/plain": [
              "0.6666666666666666"
            ]
          },
          "metadata": {
            "tags": []
          },
          "execution_count": 4
        }
      ]
    },
    {
      "cell_type": "code",
      "metadata": {
        "id": "TYPd9xXA7cU7",
        "outputId": "73262ba0-14c5-4431-af17-a1b91203aa41",
        "colab": {
          "base_uri": "https://localhost:8080/",
          "height": 34
        }
      },
      "source": [
        "2**3"
      ],
      "execution_count": null,
      "outputs": [
        {
          "output_type": "execute_result",
          "data": {
            "text/plain": [
              "8"
            ]
          },
          "metadata": {
            "tags": []
          },
          "execution_count": 6
        }
      ]
    },
    {
      "cell_type": "code",
      "metadata": {
        "id": "GaGco3Rs7lWS",
        "outputId": "e9fce8bd-9a00-4ede-e3cc-98213384c567",
        "colab": {
          "base_uri": "https://localhost:8080/",
          "height": 34
        }
      },
      "source": [
        "0.1+0.1"
      ],
      "execution_count": null,
      "outputs": [
        {
          "output_type": "execute_result",
          "data": {
            "text/plain": [
              "0.2"
            ]
          },
          "metadata": {
            "tags": []
          },
          "execution_count": 7
        }
      ]
    },
    {
      "cell_type": "code",
      "metadata": {
        "id": "H3iJFcZK7rP_",
        "outputId": "32a47a05-8af4-4742-d3df-7b48ec259a0f",
        "colab": {
          "base_uri": "https://localhost:8080/",
          "height": 34
        }
      },
      "source": [
        "universe_age = 14_000_000_000\n",
        "print(universe_age)"
      ],
      "execution_count": null,
      "outputs": [
        {
          "output_type": "stream",
          "text": [
            "14000000000\n"
          ],
          "name": "stdout"
        }
      ]
    },
    {
      "cell_type": "code",
      "metadata": {
        "id": "CnGgpp0D78Do"
      },
      "source": [
        "x, y, z = 0, 0, 0"
      ],
      "execution_count": null,
      "outputs": []
    },
    {
      "cell_type": "code",
      "metadata": {
        "id": "guJfn3y87-kX",
        "outputId": "59b4ed3a-9e44-4651-8680-1a99a6842eb3",
        "colab": {
          "base_uri": "https://localhost:8080/",
          "height": 34
        }
      },
      "source": [
        "bicycles = ['trek', 'cannondale', 'redline', 'specialized']\n",
        "print(bicycles)"
      ],
      "execution_count": null,
      "outputs": [
        {
          "output_type": "stream",
          "text": [
            "['trek', 'cannondale', 'redline', 'specialized']\n"
          ],
          "name": "stdout"
        }
      ]
    },
    {
      "cell_type": "code",
      "metadata": {
        "id": "0RleFCWF8K2m",
        "outputId": "003138a9-aa52-46ab-da72-73d7c65c2dc2",
        "colab": {
          "base_uri": "https://localhost:8080/",
          "height": 52
        }
      },
      "source": [
        "bicycles = ['trek', 'cannondale', 'redline', 'specialized']\n",
        "print(bicycles[1])\n",
        "print(bicycles[3])"
      ],
      "execution_count": null,
      "outputs": [
        {
          "output_type": "stream",
          "text": [
            "cannondale\n",
            "specialized\n"
          ],
          "name": "stdout"
        }
      ]
    },
    {
      "cell_type": "code",
      "metadata": {
        "id": "o-hnLO-v8YFy",
        "outputId": "b7a5c9bf-d780-4db8-dc06-107e2d0eef20",
        "colab": {
          "base_uri": "https://localhost:8080/",
          "height": 34
        }
      },
      "source": [
        "bicycles = ['trek', 'cannondale', 'redline', 'specialized']\n",
        "print(bicycles[-1])"
      ],
      "execution_count": null,
      "outputs": [
        {
          "output_type": "stream",
          "text": [
            "specialized\n"
          ],
          "name": "stdout"
        }
      ]
    },
    {
      "cell_type": "code",
      "metadata": {
        "id": "smQEBHvb8foa",
        "outputId": "6bdac067-59e9-4e93-98ff-934b85e1e8bf",
        "colab": {
          "base_uri": "https://localhost:8080/",
          "height": 34
        }
      },
      "source": [
        "motorcycles = []\n",
        "motorcycles.append('honda')\n",
        "motorcycles.append('yamaha')\n",
        "motorcycles.append('suzuki')\n",
        "print(motorcycles)"
      ],
      "execution_count": null,
      "outputs": [
        {
          "output_type": "stream",
          "text": [
            "['honda', 'yamaha', 'suzuki']\n"
          ],
          "name": "stdout"
        }
      ]
    },
    {
      "cell_type": "code",
      "metadata": {
        "id": "c-Pru2W10_4g",
        "outputId": "d6be7b9c-1561-4f6c-a351-6b6a9f2447fa",
        "colab": {
          "base_uri": "https://localhost:8080/",
          "height": 69
        }
      },
      "source": [
        "magicians = ['alice', 'david', 'carolina']\n",
        "for magician in magicians:\n",
        "       print(magician)"
      ],
      "execution_count": null,
      "outputs": [
        {
          "output_type": "stream",
          "text": [
            "alice\n",
            "david\n",
            "carolina\n"
          ],
          "name": "stdout"
        }
      ]
    },
    {
      "cell_type": "code",
      "metadata": {
        "id": "33v2GMUs1P6I",
        "outputId": "8fb46516-99c1-4f91-f613-c25c2dee80aa",
        "colab": {
          "base_uri": "https://localhost:8080/",
          "height": 173
        }
      },
      "source": [
        "magicians = ['alice', 'david', 'carolina']\n",
        "for magician in magicians:\n",
        "  print(f\"{magician.title()}, that was a great trick!\")\n",
        "  print(f\"I can't wait to see your next trick, {magician.title()}.\\n\")"
      ],
      "execution_count": null,
      "outputs": [
        {
          "output_type": "stream",
          "text": [
            "Alice, that was a great trick!\n",
            "I can't wait to see your next trick, Alice.\n",
            "\n",
            "David, that was a great trick!\n",
            "I can't wait to see your next trick, David.\n",
            "\n",
            "Carolina, that was a great trick!\n",
            "I can't wait to see your next trick, Carolina.\n",
            "\n"
          ],
          "name": "stdout"
        }
      ]
    },
    {
      "cell_type": "code",
      "metadata": {
        "id": "DKiP1BF41uba",
        "outputId": "b50b133e-1654-49b2-ec36-35ed52693e41",
        "colab": {
          "background_save": true,
          "base_uri": "https://localhost:8080/",
          "height": 131
        }
      },
      "source": [
        "for value in range(1, 5):    \n",
        "  print(value)"
      ],
      "execution_count": null,
      "outputs": [
        {
          "output_type": "stream",
          "text": [
            "1\n",
            "2\n",
            "3\n",
            "4\n"
          ],
          "name": "stdout"
        }
      ]
    },
    {
      "cell_type": "code",
      "metadata": {
        "id": "wW527HN_eh7x",
        "outputId": "334e99b4-8a71-47fa-9948-9f531179e6e3",
        "colab": {
          "base_uri": "https://localhost:8080/",
          "height": 34
        }
      },
      "source": [
        "numbers = list(range(1, 6))\n",
        "print(numbers)"
      ],
      "execution_count": null,
      "outputs": [
        {
          "output_type": "stream",
          "text": [
            "[1, 2, 3, 4, 5]\n"
          ],
          "name": "stdout"
        }
      ]
    },
    {
      "cell_type": "code",
      "metadata": {
        "id": "_oy2twpSemRK",
        "outputId": "1bd2444c-4282-4254-d345-4bc5388c84ea",
        "colab": {
          "base_uri": "https://localhost:8080/",
          "height": 34
        }
      },
      "source": [
        "even_numbers = list(range(2, 11, 2))\n",
        "print(even_numbers)"
      ],
      "execution_count": null,
      "outputs": [
        {
          "output_type": "stream",
          "text": [
            "[2, 4, 6, 8, 10]\n"
          ],
          "name": "stdout"
        }
      ]
    },
    {
      "cell_type": "code",
      "metadata": {
        "id": "MGn7klohfEtp",
        "outputId": "8d9e9063-dfa6-4d22-a3ce-b20c844e156d",
        "colab": {
          "base_uri": "https://localhost:8080/",
          "height": 34
        }
      },
      "source": [
        "squares = []\n",
        "for value in range(1, 11):\n",
        "     square = value ** 2\n",
        "     squares.append(square)\n",
        "print(squares)"
      ],
      "execution_count": null,
      "outputs": [
        {
          "output_type": "stream",
          "text": [
            "[1, 4, 9, 16, 25, 36, 49, 64, 81, 100]\n"
          ],
          "name": "stdout"
        }
      ]
    },
    {
      "cell_type": "code",
      "metadata": {
        "id": "eVONa2DQfM7B",
        "outputId": "b0ec1138-be78-48d4-fa01-e10524b370b5",
        "colab": {
          "base_uri": "https://localhost:8080/",
          "height": 69
        }
      },
      "source": [
        "digits = [1, 2, 3, 4, 5, 6, 7, 8, 9, 0]\n",
        "print(min(digits))\n",
        "print(max(digits))\n",
        "print(sum(digits))"
      ],
      "execution_count": null,
      "outputs": [
        {
          "output_type": "stream",
          "text": [
            "0\n",
            "9\n",
            "45\n"
          ],
          "name": "stdout"
        }
      ]
    },
    {
      "cell_type": "code",
      "metadata": {
        "id": "uQ3Dndl-fmXV",
        "outputId": "ab55a427-10de-4aac-d5dc-349b3ccd81a4",
        "colab": {
          "base_uri": "https://localhost:8080/",
          "height": 34
        }
      },
      "source": [
        "squares = [value**2 for value in range(1, 11)]\n",
        "print(squares)"
      ],
      "execution_count": null,
      "outputs": [
        {
          "output_type": "stream",
          "text": [
            "[1, 4, 9, 16, 25, 36, 49, 64, 81, 100]\n"
          ],
          "name": "stdout"
        }
      ]
    },
    {
      "cell_type": "code",
      "metadata": {
        "id": "Rwv24m4Kft8y",
        "outputId": "619bd87c-8a21-49e1-e979-74363ddb7aa7",
        "colab": {
          "base_uri": "https://localhost:8080/",
          "height": 34
        }
      },
      "source": [
        "players = ['charles', 'martina', 'michael', 'florence', 'eli']\n",
        "print(players[0:3])"
      ],
      "execution_count": null,
      "outputs": [
        {
          "output_type": "stream",
          "text": [
            "['charles', 'martina', 'michael']\n"
          ],
          "name": "stdout"
        }
      ]
    },
    {
      "cell_type": "code",
      "metadata": {
        "id": "n3Zpgg4Xf4lr",
        "outputId": "00fdd627-ab72-450c-fdc5-aba8b88a7088",
        "colab": {
          "base_uri": "https://localhost:8080/",
          "height": 34
        }
      },
      "source": [
        "players = ['charles', 'martina', 'michael', 'florence', 'eli']\n",
        "print(players[1:4])"
      ],
      "execution_count": null,
      "outputs": [
        {
          "output_type": "stream",
          "text": [
            "['martina', 'michael', 'florence']\n"
          ],
          "name": "stdout"
        }
      ]
    },
    {
      "cell_type": "code",
      "metadata": {
        "id": "8P_yozbOf_73",
        "outputId": "e1728bb2-4758-4be6-bd18-43c49719dc13",
        "colab": {
          "base_uri": "https://localhost:8080/",
          "height": 34
        }
      },
      "source": [
        "players = ['charles', 'martina', 'michael', 'florence', 'eli']\n",
        "print(players[2:])"
      ],
      "execution_count": null,
      "outputs": [
        {
          "output_type": "stream",
          "text": [
            "['michael', 'florence', 'eli']\n"
          ],
          "name": "stdout"
        }
      ]
    },
    {
      "cell_type": "code",
      "metadata": {
        "id": "_rfBvNXMgJp2",
        "outputId": "952322ac-8ba5-47fb-c71b-c21ec24c69d8",
        "colab": {
          "base_uri": "https://localhost:8080/",
          "height": 34
        }
      },
      "source": [
        "players = ['charles', 'martina', 'michael', 'florence', 'eli']\n",
        "print(players[-3:])"
      ],
      "execution_count": null,
      "outputs": [
        {
          "output_type": "stream",
          "text": [
            "['michael', 'florence', 'eli']\n"
          ],
          "name": "stdout"
        }
      ]
    },
    {
      "cell_type": "code",
      "metadata": {
        "id": "kocADHszgPlg",
        "outputId": "c4352366-7b8d-473f-f797-6b78304ee3fe",
        "colab": {
          "base_uri": "https://localhost:8080/",
          "height": 104
        }
      },
      "source": [
        "my_foods = ['pizza', 'falafel', 'carrot cake'] \n",
        "friend_foods = my_foods[:]\n",
        "print(\"My favorite foods are:\")\n",
        "print(my_foods)\n",
        "print(\"\\nMy friend's favorite foods are:\")\n",
        "print(friend_foods)"
      ],
      "execution_count": null,
      "outputs": [
        {
          "output_type": "stream",
          "text": [
            "My favorite foods are:\n",
            "['pizza', 'falafel', 'carrot cake']\n",
            "\n",
            "My friend's favorite foods are:\n",
            "['pizza', 'falafel', 'carrot cake']\n"
          ],
          "name": "stdout"
        }
      ]
    },
    {
      "cell_type": "code",
      "metadata": {
        "id": "u3kX9Ug4homM",
        "outputId": "80e72371-9525-4dd6-a228-281bd18693b3",
        "colab": {
          "base_uri": "https://localhost:8080/",
          "height": 52
        }
      },
      "source": [
        "#TUPLES\n",
        "dimensions = (200, 50)\n",
        "print(dimensions[0])\n",
        "print(dimensions[1])"
      ],
      "execution_count": null,
      "outputs": [
        {
          "output_type": "stream",
          "text": [
            "200\n",
            "50\n"
          ],
          "name": "stdout"
        }
      ]
    },
    {
      "cell_type": "code",
      "metadata": {
        "id": "z_w3-lBehvXG",
        "outputId": "d80065c1-aa23-4fe5-e129-b5985acfa99f",
        "colab": {
          "base_uri": "https://localhost:8080/",
          "height": 52
        }
      },
      "source": [
        "dimensions = (200, 50)\n",
        "for dimension in dimensions:\n",
        "  print(dimension)"
      ],
      "execution_count": null,
      "outputs": [
        {
          "output_type": "stream",
          "text": [
            "200\n",
            "50\n"
          ],
          "name": "stdout"
        }
      ]
    },
    {
      "cell_type": "code",
      "metadata": {
        "id": "-lY3kfjch-qH",
        "outputId": "b915a08e-7e04-4714-c5d8-0efa2ba892f7",
        "colab": {
          "base_uri": "https://localhost:8080/",
          "height": 86
        }
      },
      "source": [
        "#IF STATEMENTS\n",
        "cars=['audi', 'bmw', 'subaru', 'toyota']\n",
        "for car in cars:\n",
        "  if cars == 'bmw':\n",
        "    print(car.upper())\n",
        "  else:\n",
        "    print(car.title())"
      ],
      "execution_count": null,
      "outputs": [
        {
          "output_type": "stream",
          "text": [
            "Audi\n",
            "Bmw\n",
            "Subaru\n",
            "Toyota\n"
          ],
          "name": "stdout"
        }
      ]
    },
    {
      "cell_type": "code",
      "metadata": {
        "id": "lc4Y56D-v_VP",
        "outputId": "1152a663-9377-44c2-d3fa-99207ceead32",
        "colab": {
          "base_uri": "https://localhost:8080/",
          "height": 34
        }
      },
      "source": [
        "car = 'bmw'\n",
        "car == 'bmw'"
      ],
      "execution_count": null,
      "outputs": [
        {
          "output_type": "execute_result",
          "data": {
            "text/plain": [
              "True"
            ]
          },
          "metadata": {
            "tags": []
          },
          "execution_count": 3
        }
      ]
    },
    {
      "cell_type": "code",
      "metadata": {
        "id": "xZsQWnmOxoG0",
        "outputId": "01746bbf-4f8f-445e-a441-552b223cdbd3",
        "colab": {
          "base_uri": "https://localhost:8080/",
          "height": 34
        }
      },
      "source": [
        "car1=\"AUDI\"\n",
        "car1.lower()=='audi'"
      ],
      "execution_count": null,
      "outputs": [
        {
          "output_type": "execute_result",
          "data": {
            "text/plain": [
              "True"
            ]
          },
          "metadata": {
            "tags": []
          },
          "execution_count": 4
        }
      ]
    },
    {
      "cell_type": "code",
      "metadata": {
        "id": "ijSsT6JlxqNO",
        "outputId": "5b985d89-d1dc-419b-a084-5ff890030225",
        "colab": {
          "base_uri": "https://localhost:8080/",
          "height": 34
        }
      },
      "source": [
        "#Numerical Comparisons\n",
        "ans=21\n",
        "\n",
        "if ans !=42:\n",
        "  print(\"That is not the correct answer. Please try again!\")"
      ],
      "execution_count": null,
      "outputs": [
        {
          "output_type": "stream",
          "text": [
            "That is not the correct answer. Please try again!\n"
          ],
          "name": "stdout"
        }
      ]
    },
    {
      "cell_type": "code",
      "metadata": {
        "id": "OvCcIHSw6o0C",
        "outputId": "3e5d58f4-c1c5-427d-e891-5f5f9dc2efca",
        "colab": {
          "base_uri": "https://localhost:8080/",
          "height": 34
        }
      },
      "source": [
        "age=10\n",
        "age < 21\n",
        "age <=21\n",
        "age > 21\n",
        "age <= 21"
      ],
      "execution_count": null,
      "outputs": [
        {
          "output_type": "execute_result",
          "data": {
            "text/plain": [
              "True"
            ]
          },
          "metadata": {
            "tags": []
          },
          "execution_count": 9
        }
      ]
    },
    {
      "cell_type": "code",
      "metadata": {
        "id": "oKoH9bIIHaFd",
        "outputId": "46940cb4-f5e3-4600-e9e4-ec7146c5dd54",
        "colab": {
          "base_uri": "https://localhost:8080/",
          "height": 34
        }
      },
      "source": [
        "requested_toppings = ['mushrooms', 'onions', 'pineapple']\n",
        "'mushrooms' in requested_toppings\n",
        "\n",
        "'pepperoni' in requested_toppings"
      ],
      "execution_count": 2,
      "outputs": [
        {
          "output_type": "execute_result",
          "data": {
            "text/plain": [
              "False"
            ]
          },
          "metadata": {
            "tags": []
          },
          "execution_count": 2
        }
      ]
    },
    {
      "cell_type": "code",
      "metadata": {
        "id": "CUBoYSFLHu4Q",
        "outputId": "b280b17e-928b-4e81-f47e-51dfdc774c01",
        "colab": {
          "base_uri": "https://localhost:8080/",
          "height": 34
        }
      },
      "source": [
        "#Checking Whether a Value Is Not in a List\n",
        "banned_users = ['andrew', 'carolina', 'david']\n",
        "user = 'marie'\n",
        "\n",
        "if user not in banned_users:\n",
        "  print(f\"{user.title()}, you can post a response if you wish.\")"
      ],
      "execution_count": 3,
      "outputs": [
        {
          "output_type": "stream",
          "text": [
            "Marie, you can post a response if you wish.\n"
          ],
          "name": "stdout"
        }
      ]
    },
    {
      "cell_type": "code",
      "metadata": {
        "id": "68L-VqkhIV90"
      },
      "source": [
        "#Boolean Expressions\n",
        "game_active = True\n",
        "can_edit = False"
      ],
      "execution_count": 5,
      "outputs": []
    },
    {
      "cell_type": "code",
      "metadata": {
        "id": "r_3y62LFIf5k",
        "outputId": "89b31d67-8684-4de5-8340-f09760dac021",
        "colab": {
          "base_uri": "https://localhost:8080/",
          "height": 34
        }
      },
      "source": [
        "#IF STATEMENTS\n",
        "age = 19\n",
        "if age >=18:\n",
        "  print(\"Not Vote\")"
      ],
      "execution_count": 8,
      "outputs": [
        {
          "output_type": "stream",
          "text": [
            "Not Vote\n"
          ],
          "name": "stdout"
        }
      ]
    },
    {
      "cell_type": "code",
      "metadata": {
        "id": "4ptAXt_3JEcS",
        "outputId": "3500d4f3-4daa-4624-f272-cee7d0bbc5b3",
        "colab": {
          "base_uri": "https://localhost:8080/",
          "height": 34
        }
      },
      "source": [
        "#if-else Statements\n",
        "age = 17\n",
        "if age >=18:\n",
        "  print(\"Not Vote\")\n",
        "else:\n",
        "  print(\"Vote\")"
      ],
      "execution_count": 9,
      "outputs": [
        {
          "output_type": "stream",
          "text": [
            "Vote\n"
          ],
          "name": "stdout"
        }
      ]
    },
    {
      "cell_type": "code",
      "metadata": {
        "id": "jW_7lA5tKMKK",
        "outputId": "72757895-dbeb-4b05-9216-8244f7b6b82a",
        "colab": {
          "base_uri": "https://localhost:8080/",
          "height": 34
        }
      },
      "source": [
        "#The if-elif-else Chain\n",
        "age = 12\n",
        "\n",
        "if age < 4:\n",
        "  print(\"Your admission cost is $0.\")\n",
        "elif age < 18:\n",
        "  print(\"Your admission cost is $25.\")\n",
        "else:\n",
        "  print(\"Your admission cost is $40.\")"
      ],
      "execution_count": 10,
      "outputs": [
        {
          "output_type": "stream",
          "text": [
            "Your admission cost is $25.\n"
          ],
          "name": "stdout"
        }
      ]
    },
    {
      "cell_type": "code",
      "metadata": {
        "id": "_FFR48YlKlm2",
        "outputId": "a7bf5a3b-2ada-450a-cd3c-73e6dfa7d337",
        "colab": {
          "base_uri": "https://localhost:8080/",
          "height": 34
        }
      },
      "source": [
        "age = 12\n",
        "\n",
        "if age < 4:\n",
        "  price=0\n",
        "elif age < 18:\n",
        "  price=25\n",
        "else:\n",
        "  price=40\n",
        "\n",
        "print(f\"Your admission cost is ${price}.\")"
      ],
      "execution_count": 11,
      "outputs": [
        {
          "output_type": "stream",
          "text": [
            "Your admission cost is $25.\n"
          ],
          "name": "stdout"
        }
      ]
    },
    {
      "cell_type": "code",
      "metadata": {
        "id": "vszZTW1QLSE3",
        "outputId": "c546a4fc-2076-4f27-c0ee-f1e2264d2576",
        "colab": {
          "base_uri": "https://localhost:8080/",
          "height": 34
        }
      },
      "source": [
        "#Using Multiple elif Blocks\n",
        "age = 12\n",
        "\n",
        "if age < 4:\n",
        "  print('price = 0')\n",
        "elif age < 18:\n",
        "  print('price = 25')\n",
        "elif age < 65:\n",
        "  print('price = 40')\n",
        "else:\n",
        "  print('price = 20')"
      ],
      "execution_count": 14,
      "outputs": [
        {
          "output_type": "stream",
          "text": [
            "price = 25\n"
          ],
          "name": "stdout"
        }
      ]
    }
  ]
}
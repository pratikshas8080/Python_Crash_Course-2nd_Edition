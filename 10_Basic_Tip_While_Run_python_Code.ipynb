{
  "nbformat": 4,
  "nbformat_minor": 0,
  "metadata": {
    "colab": {
      "name": "10_Basic_Tip_While_Run_python_Code.ipynb",
      "provenance": [],
      "collapsed_sections": [],
      "authorship_tag": "ABX9TyP3DupSCXpD402aKjxXFzYj",
      "include_colab_link": true
    },
    "kernelspec": {
      "name": "python3",
      "display_name": "Python 3"
    }
  },
  "cells": [
    {
      "cell_type": "markdown",
      "metadata": {
        "id": "view-in-github",
        "colab_type": "text"
      },
      "source": [
        "<a href=\"https://colab.research.google.com/github/pratikshas8080/Python_Crash_Course-2nd_Edition/blob/main/10_Basic_Tip_While_Run_python_Code.ipynb\" target=\"_parent\"><img src=\"https://colab.research.google.com/assets/colab-badge.svg\" alt=\"Open In Colab\"/></a>"
      ]
    },
    {
      "cell_type": "code",
      "metadata": {
        "id": "RVGmSpX5wecM",
        "outputId": "ef5b4138-ca4a-44e4-f9dc-46ce423a0bf0",
        "colab": {
          "base_uri": "https://localhost:8080/",
          "height": 52
        }
      },
      "source": [
        "#In-Place Swapping Of Two Numbers\n",
        "x, y = 10, 20\n",
        "print(x, y) \n",
        "x, y = y, x \n",
        "print(x, y) "
      ],
      "execution_count": 1,
      "outputs": [
        {
          "output_type": "stream",
          "text": [
            "10 20\n",
            "20 10\n"
          ],
          "name": "stdout"
        }
      ]
    },
    {
      "cell_type": "code",
      "metadata": {
        "id": "9V3IgvuexBo4",
        "outputId": "90a43d6d-d38d-46e4-ff66-7f391833985e",
        "colab": {
          "base_uri": "https://localhost:8080/",
          "height": 34
        }
      },
      "source": [
        "#Reversing a string in Python\n",
        "a = \"Pratiksha\"\n",
        "print(\"Reverse is\", a[::-1]) "
      ],
      "execution_count": 2,
      "outputs": [
        {
          "output_type": "stream",
          "text": [
            "Reverse is ahskitarP\n"
          ],
          "name": "stdout"
        }
      ]
    },
    {
      "cell_type": "code",
      "metadata": {
        "id": "NgEJ1_R4xqL0",
        "outputId": "774ec754-82b7-4ab7-a392-2d513ee2dbb0",
        "colab": {
          "base_uri": "https://localhost:8080/",
          "height": 34
        }
      },
      "source": [
        "#Create a single string from all the elements in list\n",
        "a = [\"Pratiksha\", \"Balaji\", \"Sawandkar\"] \n",
        "print(\" \".join(a)) "
      ],
      "execution_count": 4,
      "outputs": [
        {
          "output_type": "stream",
          "text": [
            "Pratiksha Balaji Sawandkar\n"
          ],
          "name": "stdout"
        }
      ]
    },
    {
      "cell_type": "code",
      "metadata": {
        "id": "Jh0w03b-x9rn",
        "outputId": "7051cb92-f188-48e1-90b2-0aacd9825642",
        "colab": {
          "base_uri": "https://localhost:8080/",
          "height": 52
        }
      },
      "source": [
        "#Chaining Of Comparison Operator\n",
        "n = 10\n",
        "result = 1 < n < 20\n",
        "print(result) \n",
        "result = 1 > n <= 9\n",
        "print(result) "
      ],
      "execution_count": 5,
      "outputs": [
        {
          "output_type": "stream",
          "text": [
            "True\n",
            "False\n"
          ],
          "name": "stdout"
        }
      ]
    },
    {
      "cell_type": "code",
      "metadata": {
        "id": "kqlZzUd5yNC4",
        "outputId": "acf711b9-5254-4c43-806b-4580d337d75f",
        "colab": {
          "base_uri": "https://localhost:8080/",
          "height": 52
        }
      },
      "source": [
        "#Print The File Path Of Imported Modules\n",
        "import os \n",
        "import socket \n",
        "\n",
        "print(os) \n",
        "print(socket) \n"
      ],
      "execution_count": 6,
      "outputs": [
        {
          "output_type": "stream",
          "text": [
            "<module 'os' from '/usr/lib/python3.6/os.py'>\n",
            "<module 'socket' from '/usr/lib/python3.6/socket.py'>\n"
          ],
          "name": "stdout"
        }
      ]
    },
    {
      "cell_type": "code",
      "metadata": {
        "id": "990WwefDyVAB",
        "outputId": "b66b2040-b927-4456-94a5-75c36ca4cf05",
        "colab": {
          "base_uri": "https://localhost:8080/",
          "height": 69
        }
      },
      "source": [
        "#Use Of Enums In Python\n",
        "\n",
        "class MyName: \n",
        "    A, B, C = range(3) \n",
        "  \n",
        "print(MyName.A) \n",
        "print(MyName.B) \n",
        "print(MyName.C) "
      ],
      "execution_count": 7,
      "outputs": [
        {
          "output_type": "stream",
          "text": [
            "0\n",
            "1\n",
            "2\n"
          ],
          "name": "stdout"
        }
      ]
    }
  ]
}
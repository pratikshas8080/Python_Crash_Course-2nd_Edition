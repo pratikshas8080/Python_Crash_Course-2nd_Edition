{
  "nbformat": 4,
  "nbformat_minor": 0,
  "metadata": {
    "colab": {
      "name": "10_Basic_Tip_While_Run_python_Code.ipynb",
      "provenance": [],
      "collapsed_sections": [],
      "authorship_tag": "ABX9TyN5IOsVAJnK3W4qfzixApTE",
      "include_colab_link": true
    },
    "kernelspec": {
      "name": "python3",
      "display_name": "Python 3"
    }
  },
  "cells": [
    {
      "cell_type": "markdown",
      "metadata": {
        "id": "view-in-github",
        "colab_type": "text"
      },
      "source": [
        "<a href=\"https://colab.research.google.com/github/pratikshas8080/Python_Crash_Course-2nd_Edition/blob/main/10_Basic_Tip_While_Run_python_Code.ipynb\" target=\"_parent\"><img src=\"https://colab.research.google.com/assets/colab-badge.svg\" alt=\"Open In Colab\"/></a>"
      ]
    },
    {
      "cell_type": "code",
      "metadata": {
        "id": "RVGmSpX5wecM",
        "outputId": "ef5b4138-ca4a-44e4-f9dc-46ce423a0bf0",
        "colab": {
          "base_uri": "https://localhost:8080/",
          "height": 52
        }
      },
      "source": [
        "#In-Place Swapping Of Two Numbers\n",
        "x, y = 10, 20\n",
        "print(x, y) \n",
        "x, y = y, x \n",
        "print(x, y) "
      ],
      "execution_count": 1,
      "outputs": [
        {
          "output_type": "stream",
          "text": [
            "10 20\n",
            "20 10\n"
          ],
          "name": "stdout"
        }
      ]
    },
    {
      "cell_type": "code",
      "metadata": {
        "id": "9V3IgvuexBo4",
        "outputId": "90a43d6d-d38d-46e4-ff66-7f391833985e",
        "colab": {
          "base_uri": "https://localhost:8080/",
          "height": 34
        }
      },
      "source": [
        "#Reversing a string in Python\n",
        "a = \"Pratiksha\"\n",
        "print(\"Reverse is\", a[::-1]) "
      ],
      "execution_count": 2,
      "outputs": [
        {
          "output_type": "stream",
          "text": [
            "Reverse is ahskitarP\n"
          ],
          "name": "stdout"
        }
      ]
    },
    {
      "cell_type": "code",
      "metadata": {
        "id": "NgEJ1_R4xqL0",
        "outputId": "774ec754-82b7-4ab7-a392-2d513ee2dbb0",
        "colab": {
          "base_uri": "https://localhost:8080/",
          "height": 34
        }
      },
      "source": [
        "#Create a single string from all the elements in list\n",
        "a = [\"Pratiksha\", \"Balaji\", \"Sawandkar\"] \n",
        "print(\" \".join(a)) "
      ],
      "execution_count": 4,
      "outputs": [
        {
          "output_type": "stream",
          "text": [
            "Pratiksha Balaji Sawandkar\n"
          ],
          "name": "stdout"
        }
      ]
    },
    {
      "cell_type": "code",
      "metadata": {
        "id": "Jh0w03b-x9rn",
        "outputId": "7051cb92-f188-48e1-90b2-0aacd9825642",
        "colab": {
          "base_uri": "https://localhost:8080/",
          "height": 52
        }
      },
      "source": [
        "#Chaining Of Comparison Operator\n",
        "n = 10\n",
        "result = 1 < n < 20\n",
        "print(result) \n",
        "result = 1 > n <= 9\n",
        "print(result) "
      ],
      "execution_count": 5,
      "outputs": [
        {
          "output_type": "stream",
          "text": [
            "True\n",
            "False\n"
          ],
          "name": "stdout"
        }
      ]
    },
    {
      "cell_type": "code",
      "metadata": {
        "id": "kqlZzUd5yNC4",
        "outputId": "acf711b9-5254-4c43-806b-4580d337d75f",
        "colab": {
          "base_uri": "https://localhost:8080/",
          "height": 52
        }
      },
      "source": [
        "#Print The File Path Of Imported Modules\n",
        "import os \n",
        "import socket \n",
        "\n",
        "print(os) \n",
        "print(socket) \n"
      ],
      "execution_count": 6,
      "outputs": [
        {
          "output_type": "stream",
          "text": [
            "<module 'os' from '/usr/lib/python3.6/os.py'>\n",
            "<module 'socket' from '/usr/lib/python3.6/socket.py'>\n"
          ],
          "name": "stdout"
        }
      ]
    },
    {
      "cell_type": "code",
      "metadata": {
        "id": "990WwefDyVAB",
        "outputId": "b66b2040-b927-4456-94a5-75c36ca4cf05",
        "colab": {
          "base_uri": "https://localhost:8080/",
          "height": 69
        }
      },
      "source": [
        "#Use Of Enums In Python\n",
        "\n",
        "class MyName: \n",
        "    A, B, C = range(3) \n",
        "  \n",
        "print(MyName.A) \n",
        "print(MyName.B) \n",
        "print(MyName.C) "
      ],
      "execution_count": 7,
      "outputs": [
        {
          "output_type": "stream",
          "text": [
            "0\n",
            "1\n",
            "2\n"
          ],
          "name": "stdout"
        }
      ]
    },
    {
      "cell_type": "code",
      "metadata": {
        "id": "I7omEHtY0FKC",
        "outputId": "48f1e0a4-a64c-4443-e2ed-20b7cb0cd183",
        "colab": {
          "base_uri": "https://localhost:8080/",
          "height": 34
        }
      },
      "source": [
        "#Return Multiple Values From Functions\n",
        "def x(): \n",
        "\treturn 1, 2, 3, 4\n",
        "a, b, c, d = x() \n",
        "\n",
        "print(a, b, c, d) "
      ],
      "execution_count": 8,
      "outputs": [
        {
          "output_type": "stream",
          "text": [
            "1 2 3 4\n"
          ],
          "name": "stdout"
        }
      ]
    },
    {
      "cell_type": "code",
      "metadata": {
        "id": "qQ821Szr01PT",
        "outputId": "3bfea3c6-8b31-42d5-a390-6a06faa2d04a",
        "colab": {
          "base_uri": "https://localhost:8080/",
          "height": 34
        }
      },
      "source": [
        "#Find The Most Frequent Value In A List\n",
        "test = [1, 2, 3, 4, 2, 2, 3, 1, 4, 4, 4] \n",
        "print(max(set(test), key = test.count)) "
      ],
      "execution_count": 9,
      "outputs": [
        {
          "output_type": "stream",
          "text": [
            "4\n"
          ],
          "name": "stdout"
        }
      ]
    },
    {
      "cell_type": "code",
      "metadata": {
        "id": "r8dqAHIq0-lq",
        "outputId": "9dccfd44-625f-4aa1-fe4f-5d66065aeebe",
        "colab": {
          "base_uri": "https://localhost:8080/",
          "height": 34
        }
      },
      "source": [
        "#Check The Memory Usage Of An Object\n",
        "import sys \n",
        "x = 1\n",
        "print(sys.getsizeof(x)) \n"
      ],
      "execution_count": 10,
      "outputs": [
        {
          "output_type": "stream",
          "text": [
            "28\n"
          ],
          "name": "stdout"
        }
      ]
    },
    {
      "cell_type": "code",
      "metadata": {
        "id": "suopjfoJ2J9N",
        "outputId": "d8db2b04-5646-4b55-b539-7cf9a5bdbca6",
        "colab": {
          "base_uri": "https://localhost:8080/",
          "height": 34
        }
      },
      "source": [
        "#Print string N times\n",
        "n = 2\n",
        "a = \"Pratu\"\n",
        "print(a * n) \n"
      ],
      "execution_count": 11,
      "outputs": [
        {
          "output_type": "stream",
          "text": [
            "PratuPratu\n"
          ],
          "name": "stdout"
        }
      ]
    },
    {
      "cell_type": "code",
      "metadata": {
        "id": "Efv73olW2my_",
        "outputId": "1c5bb330-9222-44cf-a85c-e48491ec6615",
        "colab": {
          "base_uri": "https://localhost:8080/",
          "height": 52
        }
      },
      "source": [
        "#Checking if two words are anagrams\n",
        "from collections import Counter \n",
        "def is_anagram(str1, str2): \n",
        "\treturn Counter(str1) == Counter(str2) \n",
        "\n",
        "# or without having to import anything \n",
        "def is_anagram(str1, str2): \n",
        "\treturn sorted(str1) == sorted(str2) \n",
        "\n",
        "print(is_anagram('geek', 'eegk')) \n",
        "print(is_anagram('geek', 'peek'))\t \n"
      ],
      "execution_count": 12,
      "outputs": [
        {
          "output_type": "stream",
          "text": [
            "True\n",
            "False\n"
          ],
          "name": "stdout"
        }
      ]
    }
  ]
}